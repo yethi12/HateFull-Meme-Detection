{
  "cells": [
    {
      "cell_type": "code",
      "execution_count": null,
      "id": "6d594c73",
      "metadata": {
        "_cell_guid": "b1076dfc-b9ad-4769-8c92-a6c4dae69d19",
        "_uuid": "8f2839f25d086af736a60e9eeb907d3b93b6e0e5",
        "execution": {
          "iopub.execute_input": "2024-05-31T07:59:40.794440Z",
          "iopub.status.busy": "2024-05-31T07:59:40.794159Z",
          "iopub.status.idle": "2024-05-31T07:59:41.670425Z",
          "shell.execute_reply": "2024-05-31T07:59:41.669473Z"
        },
        "papermill": {
          "duration": 0.890541,
          "end_time": "2024-05-31T07:59:41.672847",
          "exception": false,
          "start_time": "2024-05-31T07:59:40.782306",
          "status": "completed"
        },
        "tags": [],
        "id": "6d594c73"
      },
      "outputs": [],
      "source": [
        "# This Python 3 environment comes with many helpful analytics libraries installed\n",
        "# For example, here's several helpful packages to load\n",
        "\n",
        "import numpy as np # linear algebra\n",
        "import pandas as pd # data processing, CSV file I/O (e.g. pd.read_csv)\n",
        "\n",
        "# Input data files are available in the read-only \"../input/\" directory\n",
        "# For example, running this (by clicking run or pressing Shift+Enter) will list all files under the input directory\n",
        "\n",
        "import os\n",
        "\n",
        "# You can write up to 20GB to the current directory that gets preserved as output when you create a version using \"Save & Run All\""
      ]
    },
    {
      "cell_type": "markdown",
      "id": "56850cba",
      "metadata": {
        "papermill": {
          "duration": 0.011129,
          "end_time": "2024-05-31T07:59:41.694884",
          "exception": false,
          "start_time": "2024-05-31T07:59:41.683755",
          "status": "completed"
        },
        "tags": [],
        "id": "56850cba"
      },
      "source": [
        "# **Hateful Meme Detection**\n",
        "\n",
        "**CHINTHA YETHI RAJ**\n",
        "**210108013**\n",
        "\n",
        "In recent years, the proliferation of hateful content on social media platforms has emerged as a significant concern, necessitating robust detection mechanisms to safeguard online communities. This project aims to develop an advanced system for the detection of hateful memes, which are a particularly insidious form of harmful content combining images and text to convey hate speech or discrimination. The proposed solution leverages state-of-the-art machine learning techniques, including convolutional neural networks (CNNs) for image analysis and transformer-based models for natural language processing (NLP). By integrating these methodologies, the system can accurately interpret and assess the multimodal content of memes.\n",
        "\n",
        "The core of the project involves creating a comprehensive dataset of labeled hateful and non-hateful memes, ensuring diversity in both visual and textual components to enhance the model's generalizability. We employ a multi-stage training process where the CNNs extract visual features, and the transformer models analyze textual data, followed by a fusion mechanism to combine these features for final classification. Additionally, we implement techniques to address challenges such as context variability, sarcasm, and subtlety in hate speech, which are prevalent in memes.\n",
        "\n",
        "Performance evaluation of the system is conducted using standard metrics such as accuracy, precision, recall, and F1-score, along with a comparative analysis against existing state-of-the-art approaches. Preliminary results demonstrate the effectiveness of our model in accurately detecting hateful memes, highlighting its potential for deployment in real-world social media monitoring tools.\n",
        "\n",
        "The project's contributions include not only a robust detection model but also insights into the challenges and nuances of multimodal hate speech detection. By enhancing the ability to automatically identify and mitigate the spread of hateful content, this project aims to contribute significantly to the creation of safer online environments."
      ]
    },
    {
      "cell_type": "markdown",
      "id": "d8907555",
      "metadata": {
        "papermill": {
          "duration": 0.01295,
          "end_time": "2024-05-31T07:59:41.719499",
          "exception": false,
          "start_time": "2024-05-31T07:59:41.706549",
          "status": "completed"
        },
        "tags": [],
        "id": "d8907555"
      },
      "source": [
        "## Table of Content\n",
        "\n",
        "[Problem](#problem)   \n",
        "[Data Understanding](#data_understanding)   \n",
        "[Data Preparation](#data_preparation)   \n",
        "[Modeling](#modeling)   \n",
        "[Evaluation](#evaluation)   \n",
        "[References](#references)   "
      ]
    },
    {
      "cell_type": "markdown",
      "id": "2da272bb",
      "metadata": {
        "papermill": {
          "duration": 0.010948,
          "end_time": "2024-05-31T07:59:41.740781",
          "exception": false,
          "start_time": "2024-05-31T07:59:41.729833",
          "status": "completed"
        },
        "tags": [],
        "id": "2da272bb"
      },
      "source": [
        "## Problem <a class=\"anchor\" id=\"problem\"></a>"
      ]
    },
    {
      "cell_type": "markdown",
      "id": "2c4e8bee",
      "metadata": {
        "papermill": {
          "duration": 0.009954,
          "end_time": "2024-05-31T07:59:41.761099",
          "exception": false,
          "start_time": "2024-05-31T07:59:41.751145",
          "status": "completed"
        },
        "tags": [],
        "id": "2c4e8bee"
      },
      "source": [
        "The rise of memes on social media has turned them into influential communication tools. Unfortunately, this medium is also being used to spread hate speech and harmful content. Detecting hateful memes is challenging due to their multimodal nature, where harmful intent can be subtly embedded in both images and text. Traditional detection systems focusing only on text or images are insufficient for understanding these nuances.\n",
        "\n",
        "Key Questions Addressed in the Project\n",
        "\n",
        "1. How can we effectively detect hate speech in memes?\n",
        "\n",
        "    Memes require an integrated approach to understand the interplay between visual and textual elements.\n",
        "    \n",
        "2. What machine learning models and techniques are most effective for this task?\n",
        "\n",
        "    Exploring and combining CNNs for image processing and transformers for text analysis to create an accurate classification system.\n",
        "    \n",
        "3. How can we create a comprehensive dataset for training and evaluation?\n",
        "\n",
        "    Collecting and annotating a diverse set of memes reflecting real-world variability for robust model training.\n",
        "    \n",
        "4. What challenges arise in detecting subtle and context-dependent hate speech in memes?\n",
        "\n",
        "    Addressing issues like sarcasm, irony, and cultural references that obscure harmful intent.\n",
        "    \n",
        "5. How can we evaluate the performance of the detection system?\n",
        "\n",
        "    Using metrics like accuracy, precision, recall, and F1-score, and comparing results with existing methods.\n",
        "    \n",
        "6. What are the ethical considerations and potential biases in detecting hateful content?\n",
        "\n",
        "    Ensuring fairness, avoiding censorship of benign content, and addressing biases in training data.\n",
        "    \n",
        "This project aims to develop an effective hateful meme detection system to enhance online safety and inclusivity."
      ]
    },
    {
      "cell_type": "markdown",
      "id": "130e1a7a",
      "metadata": {
        "papermill": {
          "duration": 0.010142,
          "end_time": "2024-05-31T07:59:41.781285",
          "exception": false,
          "start_time": "2024-05-31T07:59:41.771143",
          "status": "completed"
        },
        "tags": [],
        "id": "130e1a7a"
      },
      "source": [
        "## Data Understanding<a class=\"anchor\" id=\"data_understanding\"></a>"
      ]
    },
    {
      "cell_type": "markdown",
      "id": "ae3e3adc",
      "metadata": {
        "papermill": {
          "duration": 0.010103,
          "end_time": "2024-05-31T07:59:41.801513",
          "exception": false,
          "start_time": "2024-05-31T07:59:41.791410",
          "status": "completed"
        },
        "tags": [],
        "id": "ae3e3adc"
      },
      "source": [
        "For this project, we will utilize the Facebook Hateful Memes Detection Challenge dataset. This dataset is specifically designed for multimodal hate speech detection and includes a diverse collection of memes, combining images and associated text. Each meme is labeled as either hateful or non-hateful. The dataset provides a balanced mix of various cultural references and contexts, ensuring comprehensive coverage for training and evaluation. By leveraging this dataset, we aim to build and validate a robust system capable of accurately detecting hateful content in memes."
      ]
    },
    {
      "cell_type": "code",
      "execution_count": 1,
      "id": "518089f0",
      "metadata": {
        "execution": {
          "iopub.execute_input": "2024-05-31T07:59:41.824281Z",
          "iopub.status.busy": "2024-05-31T07:59:41.823346Z",
          "iopub.status.idle": "2024-05-31T07:59:49.087851Z",
          "shell.execute_reply": "2024-05-31T07:59:49.087057Z"
        },
        "papermill": {
          "duration": 7.278414,
          "end_time": "2024-05-31T07:59:49.090118",
          "exception": false,
          "start_time": "2024-05-31T07:59:41.811704",
          "status": "completed"
        },
        "tags": [],
        "id": "518089f0"
      },
      "outputs": [],
      "source": [
        "%matplotlib inline\n",
        "\n",
        "import json\n",
        "import logging\n",
        "from pathlib import Path\n",
        "import random\n",
        "import tarfile\n",
        "import tempfile\n",
        "import warnings\n",
        "\n",
        "import matplotlib.pyplot as plt\n",
        "import numpy as np\n",
        "import pandas as pd\n",
        "from tqdm import tqdm\n",
        "import torch\n",
        "import torchvision"
      ]
    },
    {
      "cell_type": "code",
      "execution_count": null,
      "id": "a3b067dc",
      "metadata": {
        "execution": {
          "iopub.execute_input": "2024-05-31T07:59:49.113060Z",
          "iopub.status.busy": "2024-05-31T07:59:49.112328Z",
          "iopub.status.idle": "2024-05-31T07:59:49.117200Z",
          "shell.execute_reply": "2024-05-31T07:59:49.116361Z"
        },
        "papermill": {
          "duration": 0.018399,
          "end_time": "2024-05-31T07:59:49.119139",
          "exception": false,
          "start_time": "2024-05-31T07:59:49.100740",
          "status": "completed"
        },
        "tags": [],
        "id": "a3b067dc"
      },
      "outputs": [],
      "source": [
        "data_dir = \"/kaggle/input/data-intensive/data/\"\n",
        "train_path = data_dir + \"train.jsonl\"\n",
        "dev_path = data_dir  + \"dev.jsonl\"\n",
        "test_path = data_dir + \"test.jsonl\""
      ]
    },
    {
      "cell_type": "code",
      "execution_count": null,
      "id": "e9dba86b",
      "metadata": {
        "execution": {
          "iopub.execute_input": "2024-05-31T07:59:49.141051Z",
          "iopub.status.busy": "2024-05-31T07:59:49.140747Z",
          "iopub.status.idle": "2024-05-31T07:59:49.237051Z",
          "shell.execute_reply": "2024-05-31T07:59:49.236148Z"
        },
        "papermill": {
          "duration": 0.109587,
          "end_time": "2024-05-31T07:59:49.239040",
          "exception": false,
          "start_time": "2024-05-31T07:59:49.129453",
          "status": "completed"
        },
        "tags": [],
        "id": "e9dba86b",
        "outputId": "28437add-37f6-4077-b6b4-52f9effc7324"
      },
      "outputs": [
        {
          "data": {
            "text/html": [
              "<div>\n",
              "<style scoped>\n",
              "    .dataframe tbody tr th:only-of-type {\n",
              "        vertical-align: middle;\n",
              "    }\n",
              "\n",
              "    .dataframe tbody tr th {\n",
              "        vertical-align: top;\n",
              "    }\n",
              "\n",
              "    .dataframe thead th {\n",
              "        text-align: right;\n",
              "    }\n",
              "</style>\n",
              "<table border=\"1\" class=\"dataframe\">\n",
              "  <thead>\n",
              "    <tr style=\"text-align: right;\">\n",
              "      <th></th>\n",
              "      <th>id</th>\n",
              "      <th>img</th>\n",
              "      <th>label</th>\n",
              "      <th>text</th>\n",
              "    </tr>\n",
              "  </thead>\n",
              "  <tbody>\n",
              "    <tr>\n",
              "      <th>0</th>\n",
              "      <td>42953</td>\n",
              "      <td>img/42953.png</td>\n",
              "      <td>0</td>\n",
              "      <td>its their character not their color that matters</td>\n",
              "    </tr>\n",
              "    <tr>\n",
              "      <th>1</th>\n",
              "      <td>23058</td>\n",
              "      <td>img/23058.png</td>\n",
              "      <td>0</td>\n",
              "      <td>don't be afraid to love again everyone is not ...</td>\n",
              "    </tr>\n",
              "    <tr>\n",
              "      <th>2</th>\n",
              "      <td>13894</td>\n",
              "      <td>img/13894.png</td>\n",
              "      <td>0</td>\n",
              "      <td>putting bows on your pet</td>\n",
              "    </tr>\n",
              "    <tr>\n",
              "      <th>3</th>\n",
              "      <td>37408</td>\n",
              "      <td>img/37408.png</td>\n",
              "      <td>0</td>\n",
              "      <td>i love everything and everybody! except for sq...</td>\n",
              "    </tr>\n",
              "    <tr>\n",
              "      <th>4</th>\n",
              "      <td>82403</td>\n",
              "      <td>img/82403.png</td>\n",
              "      <td>0</td>\n",
              "      <td>everybody loves chocolate chip cookies, even h...</td>\n",
              "    </tr>\n",
              "  </tbody>\n",
              "</table>\n",
              "</div>"
            ],
            "text/plain": [
              "      id            img  label  \\\n",
              "0  42953  img/42953.png      0   \n",
              "1  23058  img/23058.png      0   \n",
              "2  13894  img/13894.png      0   \n",
              "3  37408  img/37408.png      0   \n",
              "4  82403  img/82403.png      0   \n",
              "\n",
              "                                                text  \n",
              "0   its their character not their color that matters  \n",
              "1  don't be afraid to love again everyone is not ...  \n",
              "2                           putting bows on your pet  \n",
              "3  i love everything and everybody! except for sq...  \n",
              "4  everybody loves chocolate chip cookies, even h...  "
            ]
          },
          "execution_count": 4,
          "metadata": {},
          "output_type": "execute_result"
        }
      ],
      "source": [
        "train_samples_frame = pd.read_json(train_path, lines=True)\n",
        "val_samples_frame = pd.read_json(dev_path, lines=True)\n",
        "train_samples_frame.head()"
      ]
    },
    {
      "cell_type": "code",
      "execution_count": null,
      "id": "d8523324",
      "metadata": {
        "execution": {
          "iopub.execute_input": "2024-05-31T07:59:49.262044Z",
          "iopub.status.busy": "2024-05-31T07:59:49.261389Z",
          "iopub.status.idle": "2024-05-31T07:59:49.277772Z",
          "shell.execute_reply": "2024-05-31T07:59:49.276896Z"
        },
        "papermill": {
          "duration": 0.030006,
          "end_time": "2024-05-31T07:59:49.279890",
          "exception": false,
          "start_time": "2024-05-31T07:59:49.249884",
          "status": "completed"
        },
        "tags": [],
        "id": "d8523324",
        "outputId": "14df92c4-f085-4075-f420-6bf1780e340f"
      },
      "outputs": [
        {
          "data": {
            "text/plain": [
              "label\n",
              "0    5450\n",
              "1    3050\n",
              "Name: count, dtype: int64"
            ]
          },
          "execution_count": 5,
          "metadata": {},
          "output_type": "execute_result"
        }
      ],
      "source": [
        "train_samples_frame.label.value_counts()"
      ]
    },
    {
      "cell_type": "code",
      "execution_count": null,
      "id": "1544aafa",
      "metadata": {
        "execution": {
          "iopub.execute_input": "2024-05-31T07:59:49.302998Z",
          "iopub.status.busy": "2024-05-31T07:59:49.302713Z",
          "iopub.status.idle": "2024-05-31T07:59:49.328165Z",
          "shell.execute_reply": "2024-05-31T07:59:49.327277Z"
        },
        "papermill": {
          "duration": 0.039584,
          "end_time": "2024-05-31T07:59:49.330312",
          "exception": false,
          "start_time": "2024-05-31T07:59:49.290728",
          "status": "completed"
        },
        "tags": [],
        "id": "1544aafa"
      },
      "outputs": [],
      "source": [
        "train_samples_frame['length'] = train_samples_frame['text'].apply(len)\n",
        "# Define the number of bins\n",
        "num_bins = 3\n",
        "\n",
        "# Create bins automatically\n",
        "train_samples_frame['length_bins'] = pd.cut(train_samples_frame['length'], bins=num_bins)\n"
      ]
    },
    {
      "cell_type": "code",
      "execution_count": null,
      "id": "2a61def5",
      "metadata": {
        "execution": {
          "iopub.execute_input": "2024-05-31T07:59:49.353446Z",
          "iopub.status.busy": "2024-05-31T07:59:49.352753Z",
          "iopub.status.idle": "2024-05-31T07:59:50.968967Z",
          "shell.execute_reply": "2024-05-31T07:59:50.968057Z"
        },
        "papermill": {
          "duration": 1.629686,
          "end_time": "2024-05-31T07:59:50.970958",
          "exception": false,
          "start_time": "2024-05-31T07:59:49.341272",
          "status": "completed"
        },
        "tags": [],
        "id": "2a61def5",
        "outputId": "f3f0ac1c-9b68-42e4-e879-a42360bdf438"
      },
      "outputs": [
        {
          "name": "stderr",
          "output_type": "stream",
          "text": [
            "/opt/conda/lib/python3.10/site-packages/seaborn/categorical.py:641: FutureWarning: The default of observed=False is deprecated and will be changed to True in a future version of pandas. Pass observed=False to retain current behavior or observed=True to adopt the future default and silence this warning.\n",
            "  grouped_vals = vals.groupby(grouper)\n"
          ]
        },
        {
          "data": {
            "image/png": "[encoded data removed]",
            "text/plain": [
              "<Figure size 1000x600 with 1 Axes>"
            ]
          },
          "metadata": {},
          "output_type": "display_data"
        }
      ],
      "source": [
        "import seaborn as sns\n",
        "\n",
        "# Using Seaborn for better aesthetics\n",
        "plt.figure(figsize=(10, 6))\n",
        "sns.countplot(x='length_bins', data=train_samples_frame, palette='viridis')\n",
        "\n",
        "plt.title('Number of Sentences in Length Ranges')\n",
        "plt.xlabel('Sentence Length Range')\n",
        "plt.ylabel('Number of Sentences')\n",
        "plt.xticks(rotation=45)\n",
        "plt.show()\n"
      ]
    },
    {
      "cell_type": "code",
      "execution_count": null,
      "id": "8241cdf4",
      "metadata": {
        "execution": {
          "iopub.execute_input": "2024-05-31T07:59:50.994995Z",
          "iopub.status.busy": "2024-05-31T07:59:50.994685Z",
          "iopub.status.idle": "2024-05-31T07:59:51.002672Z",
          "shell.execute_reply": "2024-05-31T07:59:51.001590Z"
        },
        "papermill": {
          "duration": 0.022126,
          "end_time": "2024-05-31T07:59:51.004678",
          "exception": false,
          "start_time": "2024-05-31T07:59:50.982552",
          "status": "completed"
        },
        "tags": [],
        "id": "8241cdf4",
        "outputId": "ee6e54b6-c9ed-46be-833e-193742b335c1"
      },
      "outputs": [
        {
          "name": "stdout",
          "output_type": "stream",
          "text": [
            "Maximum Length: 433\n",
            "Median Length: 54.0\n"
          ]
        }
      ],
      "source": [
        "max_length = train_samples_frame['length'].max()\n",
        "print(\"Maximum Length:\", max_length)\n",
        "median_length = train_samples_frame['length'].median()\n",
        "print(\"Median Length:\", median_length)\n"
      ]
    },
    {
      "cell_type": "code",
      "execution_count": null,
      "id": "dc72a8c4",
      "metadata": {
        "execution": {
          "iopub.execute_input": "2024-05-31T07:59:51.029953Z",
          "iopub.status.busy": "2024-05-31T07:59:51.029664Z",
          "iopub.status.idle": "2024-05-31T07:59:51.046372Z",
          "shell.execute_reply": "2024-05-31T07:59:51.045501Z"
        },
        "papermill": {
          "duration": 0.032168,
          "end_time": "2024-05-31T07:59:51.048803",
          "exception": false,
          "start_time": "2024-05-31T07:59:51.016635",
          "status": "completed"
        },
        "tags": [],
        "id": "dc72a8c4",
        "outputId": "321baf5d-978c-4fd0-b949-fef3b09d269e"
      },
      "outputs": [
        {
          "data": {
            "text/html": [
              "<div>\n",
              "<style scoped>\n",
              "    .dataframe tbody tr th:only-of-type {\n",
              "        vertical-align: middle;\n",
              "    }\n",
              "\n",
              "    .dataframe tbody tr th {\n",
              "        vertical-align: top;\n",
              "    }\n",
              "\n",
              "    .dataframe thead th {\n",
              "        text-align: right;\n",
              "    }\n",
              "</style>\n",
              "<table border=\"1\" class=\"dataframe\">\n",
              "  <thead>\n",
              "    <tr style=\"text-align: right;\">\n",
              "      <th></th>\n",
              "      <th>id</th>\n",
              "      <th>img</th>\n",
              "      <th>label</th>\n",
              "      <th>text</th>\n",
              "      <th>length</th>\n",
              "      <th>length_bins</th>\n",
              "    </tr>\n",
              "  </thead>\n",
              "  <tbody>\n",
              "    <tr>\n",
              "      <th>0</th>\n",
              "      <td>42953</td>\n",
              "      <td>img/42953.png</td>\n",
              "      <td>0</td>\n",
              "      <td>its their character not their color that matters</td>\n",
              "      <td>48</td>\n",
              "      <td>(3.571, 147.0]</td>\n",
              "    </tr>\n",
              "    <tr>\n",
              "      <th>1</th>\n",
              "      <td>23058</td>\n",
              "      <td>img/23058.png</td>\n",
              "      <td>0</td>\n",
              "      <td>don't be afraid to love again everyone is not ...</td>\n",
              "      <td>58</td>\n",
              "      <td>(3.571, 147.0]</td>\n",
              "    </tr>\n",
              "    <tr>\n",
              "      <th>2</th>\n",
              "      <td>13894</td>\n",
              "      <td>img/13894.png</td>\n",
              "      <td>0</td>\n",
              "      <td>putting bows on your pet</td>\n",
              "      <td>24</td>\n",
              "      <td>(3.571, 147.0]</td>\n",
              "    </tr>\n",
              "    <tr>\n",
              "      <th>3</th>\n",
              "      <td>37408</td>\n",
              "      <td>img/37408.png</td>\n",
              "      <td>0</td>\n",
              "      <td>i love everything and everybody! except for sq...</td>\n",
              "      <td>70</td>\n",
              "      <td>(3.571, 147.0]</td>\n",
              "    </tr>\n",
              "    <tr>\n",
              "      <th>4</th>\n",
              "      <td>82403</td>\n",
              "      <td>img/82403.png</td>\n",
              "      <td>0</td>\n",
              "      <td>everybody loves chocolate chip cookies, even h...</td>\n",
              "      <td>51</td>\n",
              "      <td>(3.571, 147.0]</td>\n",
              "    </tr>\n",
              "    <tr>\n",
              "      <th>...</th>\n",
              "      <td>...</td>\n",
              "      <td>...</td>\n",
              "      <td>...</td>\n",
              "      <td>...</td>\n",
              "      <td>...</td>\n",
              "      <td>...</td>\n",
              "    </tr>\n",
              "    <tr>\n",
              "      <th>8495</th>\n",
              "      <td>10423</td>\n",
              "      <td>img/10423.png</td>\n",
              "      <td>1</td>\n",
              "      <td>nobody wants to hang auschwitz me</td>\n",
              "      <td>33</td>\n",
              "      <td>(3.571, 147.0]</td>\n",
              "    </tr>\n",
              "    <tr>\n",
              "      <th>8496</th>\n",
              "      <td>98203</td>\n",
              "      <td>img/98203.png</td>\n",
              "      <td>1</td>\n",
              "      <td>when god grants you a child after 20 years of ...</td>\n",
              "      <td>96</td>\n",
              "      <td>(3.571, 147.0]</td>\n",
              "    </tr>\n",
              "    <tr>\n",
              "      <th>8497</th>\n",
              "      <td>36947</td>\n",
              "      <td>img/36947.png</td>\n",
              "      <td>1</td>\n",
              "      <td>gays on social media: equality! body positivit...</td>\n",
              "      <td>130</td>\n",
              "      <td>(3.571, 147.0]</td>\n",
              "    </tr>\n",
              "    <tr>\n",
              "      <th>8498</th>\n",
              "      <td>16492</td>\n",
              "      <td>img/16492.png</td>\n",
              "      <td>1</td>\n",
              "      <td>having a bad day? you could be a siamese twin ...</td>\n",
              "      <td>122</td>\n",
              "      <td>(3.571, 147.0]</td>\n",
              "    </tr>\n",
              "    <tr>\n",
              "      <th>8499</th>\n",
              "      <td>15937</td>\n",
              "      <td>img/15937.png</td>\n",
              "      <td>1</td>\n",
              "      <td>i hate muslims too they take their religion to...</td>\n",
              "      <td>76</td>\n",
              "      <td>(3.571, 147.0]</td>\n",
              "    </tr>\n",
              "  </tbody>\n",
              "</table>\n",
              "<p>8500 rows \u00d7 6 columns</p>\n",
              "</div>"
            ],
            "text/plain": [
              "         id            img  label  \\\n",
              "0     42953  img/42953.png      0   \n",
              "1     23058  img/23058.png      0   \n",
              "2     13894  img/13894.png      0   \n",
              "3     37408  img/37408.png      0   \n",
              "4     82403  img/82403.png      0   \n",
              "...     ...            ...    ...   \n",
              "8495  10423  img/10423.png      1   \n",
              "8496  98203  img/98203.png      1   \n",
              "8497  36947  img/36947.png      1   \n",
              "8498  16492  img/16492.png      1   \n",
              "8499  15937  img/15937.png      1   \n",
              "\n",
              "                                                   text  length  \\\n",
              "0      its their character not their color that matters      48   \n",
              "1     don't be afraid to love again everyone is not ...      58   \n",
              "2                              putting bows on your pet      24   \n",
              "3     i love everything and everybody! except for sq...      70   \n",
              "4     everybody loves chocolate chip cookies, even h...      51   \n",
              "...                                                 ...     ...   \n",
              "8495                  nobody wants to hang auschwitz me      33   \n",
              "8496  when god grants you a child after 20 years of ...      96   \n",
              "8497  gays on social media: equality! body positivit...     130   \n",
              "8498  having a bad day? you could be a siamese twin ...     122   \n",
              "8499  i hate muslims too they take their religion to...      76   \n",
              "\n",
              "         length_bins  \n",
              "0     (3.571, 147.0]  \n",
              "1     (3.571, 147.0]  \n",
              "2     (3.571, 147.0]  \n",
              "3     (3.571, 147.0]  \n",
              "4     (3.571, 147.0]  \n",
              "...              ...  \n",
              "8495  (3.571, 147.0]  \n",
              "8496  (3.571, 147.0]  \n",
              "8497  (3.571, 147.0]  \n",
              "8498  (3.571, 147.0]  \n",
              "8499  (3.571, 147.0]  \n",
              "\n",
              "[8500 rows x 6 columns]"
            ]
          },
          "execution_count": 9,
          "metadata": {},
          "output_type": "execute_result"
        }
      ],
      "source": [
        "train_samples_frame"
      ]
    },
    {
      "cell_type": "markdown",
      "id": "c4121d91",
      "metadata": {
        "papermill": {
          "duration": 0.011668,
          "end_time": "2024-05-31T07:59:51.073203",
          "exception": false,
          "start_time": "2024-05-31T07:59:51.061535",
          "status": "completed"
        },
        "tags": [],
        "id": "c4121d91"
      },
      "source": [
        "## Data Preparation<a class=\"anchor\" id=\"data_preparation\"></a>"
      ]
    },
    {
      "cell_type": "markdown",
      "id": "a3d9f677",
      "metadata": {
        "papermill": {
          "duration": 0.011749,
          "end_time": "2024-05-31T07:59:51.096608",
          "exception": false,
          "start_time": "2024-05-31T07:59:51.084859",
          "status": "completed"
        },
        "tags": [],
        "id": "a3d9f677"
      },
      "source": [
        "Explain what kind of data transformations, feature selection and/or engineering you will perform."
      ]
    },
    {
      "cell_type": "code",
      "execution_count": null,
      "id": "65725dee",
      "metadata": {
        "execution": {
          "iopub.execute_input": "2024-05-31T07:59:51.121476Z",
          "iopub.status.busy": "2024-05-31T07:59:51.121126Z",
          "iopub.status.idle": "2024-05-31T07:59:51.127092Z",
          "shell.execute_reply": "2024-05-31T07:59:51.126354Z"
        },
        "papermill": {
          "duration": 0.020728,
          "end_time": "2024-05-31T07:59:51.128901",
          "exception": false,
          "start_time": "2024-05-31T07:59:51.108173",
          "status": "completed"
        },
        "tags": [],
        "id": "65725dee"
      },
      "outputs": [],
      "source": [
        "train_samples_frame = train_samples_frame[train_samples_frame['length'] < 64]"
      ]
    },
    {
      "cell_type": "code",
      "execution_count": null,
      "id": "aa8f2e07",
      "metadata": {
        "execution": {
          "iopub.execute_input": "2024-05-31T07:59:51.154223Z",
          "iopub.status.busy": "2024-05-31T07:59:51.153932Z",
          "iopub.status.idle": "2024-05-31T07:59:51.160426Z",
          "shell.execute_reply": "2024-05-31T07:59:51.159520Z"
        },
        "papermill": {
          "duration": 0.021524,
          "end_time": "2024-05-31T07:59:51.162412",
          "exception": false,
          "start_time": "2024-05-31T07:59:51.140888",
          "status": "completed"
        },
        "tags": [],
        "id": "aa8f2e07"
      },
      "outputs": [],
      "source": [
        "train_samples_frame = train_samples_frame.sample(2000)"
      ]
    },
    {
      "cell_type": "code",
      "execution_count": null,
      "id": "b65ee739",
      "metadata": {
        "execution": {
          "iopub.execute_input": "2024-05-31T07:59:51.187819Z",
          "iopub.status.busy": "2024-05-31T07:59:51.187551Z",
          "iopub.status.idle": "2024-05-31T07:59:51.192992Z",
          "shell.execute_reply": "2024-05-31T07:59:51.192192Z"
        },
        "papermill": {
          "duration": 0.02049,
          "end_time": "2024-05-31T07:59:51.194869",
          "exception": false,
          "start_time": "2024-05-31T07:59:51.174379",
          "status": "completed"
        },
        "tags": [],
        "id": "b65ee739"
      },
      "outputs": [],
      "source": [
        "train_texts = list(train_samples_frame['text'])\n",
        "val_texts = list(val_samples_frame['text'])\n",
        "train_labels = list(train_samples_frame['label'])\n",
        "val_labels = list(val_samples_frame['label'])"
      ]
    },
    {
      "cell_type": "code",
      "execution_count": null,
      "id": "9cf40361",
      "metadata": {
        "execution": {
          "iopub.execute_input": "2024-05-31T07:59:51.219412Z",
          "iopub.status.busy": "2024-05-31T07:59:51.219147Z",
          "iopub.status.idle": "2024-05-31T08:00:47.772898Z",
          "shell.execute_reply": "2024-05-31T08:00:47.772050Z"
        },
        "papermill": {
          "duration": 56.568798,
          "end_time": "2024-05-31T08:00:47.775204",
          "exception": false,
          "start_time": "2024-05-31T07:59:51.206406",
          "status": "completed"
        },
        "tags": [],
        "id": "9cf40361",
        "outputId": "426a6def-d49a-4f35-a14e-e58f7841fb80"
      },
      "outputs": [
        {
          "name": "stderr",
          "output_type": "stream",
          "text": [
            "2024-05-31 07:59:53.311853: E external/local_xla/xla/stream_executor/cuda/cuda_dnn.cc:9261] Unable to register cuDNN factory: Attempting to register factory for plugin cuDNN when one has already been registered\n",
            "2024-05-31 07:59:53.311960: E external/local_xla/xla/stream_executor/cuda/cuda_fft.cc:607] Unable to register cuFFT factory: Attempting to register factory for plugin cuFFT when one has already been registered\n",
            "2024-05-31 07:59:53.482670: E external/local_xla/xla/stream_executor/cuda/cuda_blas.cc:1515] Unable to register cuBLAS factory: Attempting to register factory for plugin cuBLAS when one has already been registered\n"
          ]
        }
      ],
      "source": [
        "from tensorflow.keras.preprocessing.image import load_img, img_to_array\n",
        "train_images = []\n",
        "val_images = []\n",
        "\n",
        "for i in list(val_samples_frame['img']):\n",
        "    path = data_dir + i\n",
        "    img = load_img(path, target_size=(128, 128))\n",
        "    img_array = img_to_array(img)\n",
        "    img_array /= 255.0  # Normalize pixel values\n",
        "    val_images.append(img_array)\n",
        "\n",
        "for i in list(train_samples_frame['img']):\n",
        "    path = data_dir + i\n",
        "    img = load_img(path, target_size=(128, 128))\n",
        "    img_array = img_to_array(img)\n",
        "    img_array /= 255.0  # Normalize pixel values\n",
        "    train_images.append(img_array)\n",
        "\n",
        "train_images = np.array(train_images)\n",
        "val_images = np.array(val_images)"
      ]
    },
    {
      "cell_type": "code",
      "execution_count": null,
      "id": "77358a43",
      "metadata": {
        "execution": {
          "iopub.execute_input": "2024-05-31T08:00:47.801260Z",
          "iopub.status.busy": "2024-05-31T08:00:47.800408Z",
          "iopub.status.idle": "2024-05-31T08:00:54.342086Z",
          "shell.execute_reply": "2024-05-31T08:00:54.341312Z"
        },
        "papermill": {
          "duration": 6.556683,
          "end_time": "2024-05-31T08:00:54.344366",
          "exception": false,
          "start_time": "2024-05-31T08:00:47.787683",
          "status": "completed"
        },
        "tags": [],
        "colab": {
          "referenced_widgets": [
            "a5f5784306b242a1a6bb3fe70001290c",
            "e36d90489e4d4e00bec5d05b1491d96f",
            "0eb01f8cedf34cfb813cf4e0278ff57f",
            "5185e601bb8541c2b388525c3c41f847",
            "7721124d412e44f0995e68881d9ce980"
          ]
        },
        "id": "77358a43",
        "outputId": "92fe8903-5aeb-403c-eb66-03075fbd37de"
      },
      "outputs": [
        {
          "data": {
            "application/vnd.jupyter.widget-view+json": {
              "model_id": "a5f5784306b242a1a6bb3fe70001290c",
              "version_major": 2,
              "version_minor": 0
            },
            "text/plain": [
              "config.json:   0%|          | 0.00/570 [00:00<?, ?B/s]"
            ]
          },
          "metadata": {},
          "output_type": "display_data"
        },
        {
          "data": {
            "application/vnd.jupyter.widget-view+json": {
              "model_id": "e36d90489e4d4e00bec5d05b1491d96f",
              "version_major": 2,
              "version_minor": 0
            },
            "text/plain": [
              "model.safetensors:   0%|          | 0.00/440M [00:00<?, ?B/s]"
            ]
          },
          "metadata": {},
          "output_type": "display_data"
        },
        {
          "name": "stderr",
          "output_type": "stream",
          "text": [
            "Some weights of the PyTorch model were not used when initializing the TF 2.0 model TFBertModel: ['cls.predictions.transform.LayerNorm.bias', 'cls.seq_relationship.weight', 'cls.predictions.transform.dense.bias', 'cls.predictions.transform.LayerNorm.weight', 'cls.predictions.bias', 'cls.predictions.transform.dense.weight', 'cls.seq_relationship.bias']\n",
            "- This IS expected if you are initializing TFBertModel from a PyTorch model trained on another task or with another architecture (e.g. initializing a TFBertForSequenceClassification model from a BertForPreTraining model).\n",
            "- This IS NOT expected if you are initializing TFBertModel from a PyTorch model that you expect to be exactly identical (e.g. initializing a TFBertForSequenceClassification model from a BertForSequenceClassification model).\n",
            "All the weights of TFBertModel were initialized from the PyTorch model.\n",
            "If your task is similar to the task the model of the checkpoint was trained on, you can already use TFBertModel for predictions without further training.\n"
          ]
        },
        {
          "data": {
            "application/vnd.jupyter.widget-view+json": {
              "model_id": "0eb01f8cedf34cfb813cf4e0278ff57f",
              "version_major": 2,
              "version_minor": 0
            },
            "text/plain": [
              "tokenizer_config.json:   0%|          | 0.00/48.0 [00:00<?, ?B/s]"
            ]
          },
          "metadata": {},
          "output_type": "display_data"
        },
        {
          "data": {
            "application/vnd.jupyter.widget-view+json": {
              "model_id": "5185e601bb8541c2b388525c3c41f847",
              "version_major": 2,
              "version_minor": 0
            },
            "text/plain": [
              "vocab.txt:   0%|          | 0.00/232k [00:00<?, ?B/s]"
            ]
          },
          "metadata": {},
          "output_type": "display_data"
        },
        {
          "data": {
            "application/vnd.jupyter.widget-view+json": {
              "model_id": "7721124d412e44f0995e68881d9ce980",
              "version_major": 2,
              "version_minor": 0
            },
            "text/plain": [
              "tokenizer.json:   0%|          | 0.00/466k [00:00<?, ?B/s]"
            ]
          },
          "metadata": {},
          "output_type": "display_data"
        }
      ],
      "source": [
        "import tensorflow as tf\n",
        "from tensorflow.keras.applications import InceptionResNetV2\n",
        "from tensorflow.keras.models import Model\n",
        "from tensorflow.keras.layers import Input, Dense, Concatenate, GlobalAveragePooling2D,Flatten\n",
        "from transformers import TFBertModel, BertTokenizer\n",
        "import numpy as np\n",
        "\n",
        "# Load pre-trained BERT model and tokenizer\n",
        "bert_model = TFBertModel.from_pretrained('bert-base-uncased')\n",
        "tokenizer = BertTokenizer.from_pretrained('bert-base-uncased')\n",
        "\n",
        "def get_bert_embeddings(texts):\n",
        "    inputs = tokenizer(texts, return_tensors=\"tf\", padding=True, truncation=True, max_length=128)\n",
        "    outputs = bert_model(inputs)\n",
        "    outputs = outputs.last_hidden_state[:, 0, :]  # Use the [CLS] token embedding\n",
        "    return outputs\n",
        "\n"
      ]
    },
    {
      "cell_type": "code",
      "execution_count": null,
      "id": "1a877d30",
      "metadata": {
        "execution": {
          "iopub.execute_input": "2024-05-31T08:00:54.375087Z",
          "iopub.status.busy": "2024-05-31T08:00:54.374721Z",
          "iopub.status.idle": "2024-05-31T08:01:00.990398Z",
          "shell.execute_reply": "2024-05-31T08:01:00.989331Z"
        },
        "papermill": {
          "duration": 6.635237,
          "end_time": "2024-05-31T08:01:00.992763",
          "exception": false,
          "start_time": "2024-05-31T08:00:54.357526",
          "status": "completed"
        },
        "tags": [],
        "id": "1a877d30"
      },
      "outputs": [],
      "source": [
        "train_text_embeddings = get_bert_embeddings(train_texts)\n",
        "val_text_embeddings = get_bert_embeddings(val_texts)\n",
        "train_text_embeddings = np.array(train_text_embeddings)\n",
        "val_text_embeddings = np.array(val_text_embeddings)"
      ]
    },
    {
      "cell_type": "code",
      "execution_count": null,
      "id": "341f0f3e",
      "metadata": {
        "execution": {
          "iopub.execute_input": "2024-05-31T08:01:01.020294Z",
          "iopub.status.busy": "2024-05-31T08:01:01.019965Z",
          "iopub.status.idle": "2024-05-31T08:01:01.025698Z",
          "shell.execute_reply": "2024-05-31T08:01:01.024783Z"
        },
        "papermill": {
          "duration": 0.021563,
          "end_time": "2024-05-31T08:01:01.027674",
          "exception": false,
          "start_time": "2024-05-31T08:01:01.006111",
          "status": "completed"
        },
        "tags": [],
        "id": "341f0f3e",
        "outputId": "a7ac58c1-e464-44ee-b425-e6cdf89e213e"
      },
      "outputs": [
        {
          "data": {
            "text/plain": [
              "(2000, 768)"
            ]
          },
          "execution_count": 16,
          "metadata": {},
          "output_type": "execute_result"
        }
      ],
      "source": [
        "train_text_embeddings.shape"
      ]
    },
    {
      "cell_type": "code",
      "execution_count": null,
      "id": "de3bddb4",
      "metadata": {
        "execution": {
          "iopub.execute_input": "2024-05-31T08:01:01.054635Z",
          "iopub.status.busy": "2024-05-31T08:01:01.054370Z",
          "iopub.status.idle": "2024-05-31T08:01:01.058553Z",
          "shell.execute_reply": "2024-05-31T08:01:01.057723Z"
        },
        "papermill": {
          "duration": 0.019714,
          "end_time": "2024-05-31T08:01:01.060368",
          "exception": false,
          "start_time": "2024-05-31T08:01:01.040654",
          "status": "completed"
        },
        "tags": [],
        "id": "de3bddb4"
      },
      "outputs": [],
      "source": [
        "train_labels = np.array(train_labels)\n",
        "val_labels = np.array(val_labels)"
      ]
    },
    {
      "cell_type": "markdown",
      "id": "a798c1d8",
      "metadata": {
        "papermill": {
          "duration": 0.012585,
          "end_time": "2024-05-31T08:01:01.085818",
          "exception": false,
          "start_time": "2024-05-31T08:01:01.073233",
          "status": "completed"
        },
        "tags": [],
        "id": "a798c1d8"
      },
      "source": [
        "## Modeling<a class=\"anchor\" id=\"modeling\"></a>"
      ]
    },
    {
      "cell_type": "code",
      "execution_count": null,
      "id": "4b48b1a1",
      "metadata": {
        "execution": {
          "iopub.execute_input": "2024-05-31T08:01:01.112921Z",
          "iopub.status.busy": "2024-05-31T08:01:01.112642Z",
          "iopub.status.idle": "2024-05-31T08:01:07.311765Z",
          "shell.execute_reply": "2024-05-31T08:01:07.310967Z"
        },
        "papermill": {
          "duration": 6.21495,
          "end_time": "2024-05-31T08:01:07.313973",
          "exception": false,
          "start_time": "2024-05-31T08:01:01.099023",
          "status": "completed"
        },
        "tags": [],
        "id": "4b48b1a1",
        "outputId": "5ffa88b0-7807-4b8b-def6-b97e00602cba"
      },
      "outputs": [
        {
          "name": "stdout",
          "output_type": "stream",
          "text": [
            "Downloading data from https://storage.googleapis.com/tensorflow/keras-applications/inception_resnet_v2/inception_resnet_v2_weights_tf_dim_ordering_tf_kernels_notop.h5\n",
            "\u001b[1m219055592/219055592\u001b[0m \u001b[32m\u2501\u2501\u2501\u2501\u2501\u2501\u2501\u2501\u2501\u2501\u2501\u2501\u2501\u2501\u2501\u2501\u2501\u2501\u2501\u2501\u001b[0m\u001b[37m\u001b[0m \u001b[1m1s\u001b[0m 0us/step\n"
          ]
        }
      ],
      "source": [
        "from tensorflow.keras.optimizers import Adam, SGD\n",
        "from tensorflow.keras.layers import Input, Dense, Concatenate, GlobalAveragePooling2D,Flatten, Dropout\n",
        "\n",
        "# Load pre-trained InceptionResNetV2 model, exclude top layers\n",
        "base_model = InceptionResNetV2(weights='imagenet', include_top=False, input_shape=(128 , 128, 3))\n",
        "\n",
        "# Custom model combining InceptionResNetV2 and BERT embeddings\n",
        "image_input = base_model.input\n",
        "x = base_model(image_input)\n",
        "x = GlobalAveragePooling2D()(x)\n",
        "x = Flatten()(x)\n",
        "\n",
        "text_input = Input((768,))\n",
        "text_input = Flatten()(text_input)\n",
        "\n",
        "combined = Concatenate()([x, text_input])\n",
        "\n",
        "x_last = Dense(1024, activation = 'relu')(combined)\n",
        "x_last = Dense(512, activation = 'relu')(x_last)\n",
        "x_last = Dropout(0.5)(x_last)\n",
        "x_last = Dense(256, activation = 'relu')(x_last)\n",
        "x_last = Dense(128, activation = 'relu')(x_last)\n",
        "x_last = Dropout(0.5)(x_last)\n",
        "predictions = Dense(2, activation='softmax')(x_last)\n",
        "\n",
        "\n",
        "# Define the final model\n",
        "model = Model(inputs=[image_input, text_input], outputs=predictions)\n",
        "\n",
        "# Compile the model\n",
        "model.compile(optimizer=\"adam\", loss='sparse_categorical_crossentropy', metrics=['accuracy'])\n",
        "\n"
      ]
    },
    {
      "cell_type": "code",
      "execution_count": null,
      "id": "5d058ce7",
      "metadata": {
        "execution": {
          "iopub.execute_input": "2024-05-31T08:01:07.344735Z",
          "iopub.status.busy": "2024-05-31T08:01:07.344421Z",
          "iopub.status.idle": "2024-05-31T08:01:07.406544Z",
          "shell.execute_reply": "2024-05-31T08:01:07.405593Z"
        },
        "papermill": {
          "duration": 0.079545,
          "end_time": "2024-05-31T08:01:07.408451",
          "exception": false,
          "start_time": "2024-05-31T08:01:07.328906",
          "status": "completed"
        },
        "tags": [],
        "id": "5d058ce7",
        "outputId": "09758b1b-5932-4976-a4bf-e41eb63ebe3a"
      },
      "outputs": [
        {
          "data": {
            "text/html": [
              "<pre style=\"white-space:pre;overflow-x:auto;line-height:normal;font-family:Menlo,'DejaVu Sans Mono',consolas,'Courier New',monospace\"><span style=\"font-weight: bold\">Model: \"functional_1\"</span>\n",
              "</pre>\n"
            ],
            "text/plain": [
              "\u001b[1mModel: \"functional_1\"\u001b[0m\n"
            ]
          },
          "metadata": {},
          "output_type": "display_data"
        },
        {
          "data": {
            "text/html": [
              "<pre style=\"white-space:pre;overflow-x:auto;line-height:normal;font-family:Menlo,'DejaVu Sans Mono',consolas,'Courier New',monospace\">\u250f\u2501\u2501\u2501\u2501\u2501\u2501\u2501\u2501\u2501\u2501\u2501\u2501\u2501\u2501\u2501\u2501\u2501\u2501\u2501\u2501\u2501\u2533\u2501\u2501\u2501\u2501\u2501\u2501\u2501\u2501\u2501\u2501\u2501\u2501\u2501\u2501\u2501\u2501\u2501\u2501\u2501\u2533\u2501\u2501\u2501\u2501\u2501\u2501\u2501\u2501\u2501\u2501\u2501\u2501\u2533\u2501\u2501\u2501\u2501\u2501\u2501\u2501\u2501\u2501\u2501\u2501\u2501\u2501\u2501\u2501\u2501\u2501\u2501\u2501\u2513\n",
              "\u2503<span style=\"font-weight: bold\"> Layer (type)        </span>\u2503<span style=\"font-weight: bold\"> Output Shape      </span>\u2503<span style=\"font-weight: bold\">    Param # </span>\u2503<span style=\"font-weight: bold\"> Connected to      </span>\u2503\n",
              "\u2521\u2501\u2501\u2501\u2501\u2501\u2501\u2501\u2501\u2501\u2501\u2501\u2501\u2501\u2501\u2501\u2501\u2501\u2501\u2501\u2501\u2501\u2547\u2501\u2501\u2501\u2501\u2501\u2501\u2501\u2501\u2501\u2501\u2501\u2501\u2501\u2501\u2501\u2501\u2501\u2501\u2501\u2547\u2501\u2501\u2501\u2501\u2501\u2501\u2501\u2501\u2501\u2501\u2501\u2501\u2547\u2501\u2501\u2501\u2501\u2501\u2501\u2501\u2501\u2501\u2501\u2501\u2501\u2501\u2501\u2501\u2501\u2501\u2501\u2501\u2529\n",
              "\u2502 input_layer         \u2502 (<span style=\"color: #00d7ff; text-decoration-color: #00d7ff\">None</span>, <span style=\"color: #00af00; text-decoration-color: #00af00\">128</span>, <span style=\"color: #00af00; text-decoration-color: #00af00\">128</span>,  \u2502          <span style=\"color: #00af00; text-decoration-color: #00af00\">0</span> \u2502 -                 \u2502\n",
              "\u2502 (<span style=\"color: #0087ff; text-decoration-color: #0087ff\">InputLayer</span>)        \u2502 <span style=\"color: #00af00; text-decoration-color: #00af00\">3</span>)                \u2502            \u2502                   \u2502\n",
              "\u251c\u2500\u2500\u2500\u2500\u2500\u2500\u2500\u2500\u2500\u2500\u2500\u2500\u2500\u2500\u2500\u2500\u2500\u2500\u2500\u2500\u2500\u253c\u2500\u2500\u2500\u2500\u2500\u2500\u2500\u2500\u2500\u2500\u2500\u2500\u2500\u2500\u2500\u2500\u2500\u2500\u2500\u253c\u2500\u2500\u2500\u2500\u2500\u2500\u2500\u2500\u2500\u2500\u2500\u2500\u253c\u2500\u2500\u2500\u2500\u2500\u2500\u2500\u2500\u2500\u2500\u2500\u2500\u2500\u2500\u2500\u2500\u2500\u2500\u2500\u2524\n",
              "\u2502 inception_resnet_v2 \u2502 (<span style=\"color: #00d7ff; text-decoration-color: #00d7ff\">None</span>, <span style=\"color: #00af00; text-decoration-color: #00af00\">2</span>, <span style=\"color: #00af00; text-decoration-color: #00af00\">2</span>,      \u2502 <span style=\"color: #00af00; text-decoration-color: #00af00\">54,336,736</span> \u2502 input_layer[<span style=\"color: #00af00; text-decoration-color: #00af00\">2</span>][<span style=\"color: #00af00; text-decoration-color: #00af00\">0</span>] \u2502\n",
              "\u2502 (<span style=\"color: #0087ff; text-decoration-color: #0087ff\">Functional</span>)        \u2502 <span style=\"color: #00af00; text-decoration-color: #00af00\">1536</span>)             \u2502            \u2502                   \u2502\n",
              "\u251c\u2500\u2500\u2500\u2500\u2500\u2500\u2500\u2500\u2500\u2500\u2500\u2500\u2500\u2500\u2500\u2500\u2500\u2500\u2500\u2500\u2500\u253c\u2500\u2500\u2500\u2500\u2500\u2500\u2500\u2500\u2500\u2500\u2500\u2500\u2500\u2500\u2500\u2500\u2500\u2500\u2500\u253c\u2500\u2500\u2500\u2500\u2500\u2500\u2500\u2500\u2500\u2500\u2500\u2500\u253c\u2500\u2500\u2500\u2500\u2500\u2500\u2500\u2500\u2500\u2500\u2500\u2500\u2500\u2500\u2500\u2500\u2500\u2500\u2500\u2524\n",
              "\u2502 global_average_poo\u2026 \u2502 (<span style=\"color: #00d7ff; text-decoration-color: #00d7ff\">None</span>, <span style=\"color: #00af00; text-decoration-color: #00af00\">1536</span>)      \u2502          <span style=\"color: #00af00; text-decoration-color: #00af00\">0</span> \u2502 inception_resnet\u2026 \u2502\n",
              "\u2502 (<span style=\"color: #0087ff; text-decoration-color: #0087ff\">GlobalAveragePool\u2026</span> \u2502                   \u2502            \u2502                   \u2502\n",
              "\u251c\u2500\u2500\u2500\u2500\u2500\u2500\u2500\u2500\u2500\u2500\u2500\u2500\u2500\u2500\u2500\u2500\u2500\u2500\u2500\u2500\u2500\u253c\u2500\u2500\u2500\u2500\u2500\u2500\u2500\u2500\u2500\u2500\u2500\u2500\u2500\u2500\u2500\u2500\u2500\u2500\u2500\u253c\u2500\u2500\u2500\u2500\u2500\u2500\u2500\u2500\u2500\u2500\u2500\u2500\u253c\u2500\u2500\u2500\u2500\u2500\u2500\u2500\u2500\u2500\u2500\u2500\u2500\u2500\u2500\u2500\u2500\u2500\u2500\u2500\u2524\n",
              "\u2502 flatten (<span style=\"color: #0087ff; text-decoration-color: #0087ff\">Flatten</span>)   \u2502 (<span style=\"color: #00d7ff; text-decoration-color: #00d7ff\">None</span>, <span style=\"color: #00af00; text-decoration-color: #00af00\">1536</span>)      \u2502          <span style=\"color: #00af00; text-decoration-color: #00af00\">0</span> \u2502 global_average_p\u2026 \u2502\n",
              "\u251c\u2500\u2500\u2500\u2500\u2500\u2500\u2500\u2500\u2500\u2500\u2500\u2500\u2500\u2500\u2500\u2500\u2500\u2500\u2500\u2500\u2500\u253c\u2500\u2500\u2500\u2500\u2500\u2500\u2500\u2500\u2500\u2500\u2500\u2500\u2500\u2500\u2500\u2500\u2500\u2500\u2500\u253c\u2500\u2500\u2500\u2500\u2500\u2500\u2500\u2500\u2500\u2500\u2500\u2500\u253c\u2500\u2500\u2500\u2500\u2500\u2500\u2500\u2500\u2500\u2500\u2500\u2500\u2500\u2500\u2500\u2500\u2500\u2500\u2500\u2524\n",
              "\u2502 keras_tensor_784CL\u2026 \u2502 (<span style=\"color: #00d7ff; text-decoration-color: #00d7ff\">None</span>, <span style=\"color: #00af00; text-decoration-color: #00af00\">768</span>)       \u2502          <span style=\"color: #00af00; text-decoration-color: #00af00\">0</span> \u2502 -                 \u2502\n",
              "\u2502 (<span style=\"color: #0087ff; text-decoration-color: #0087ff\">InputLayer</span>)        \u2502                   \u2502            \u2502                   \u2502\n",
              "\u251c\u2500\u2500\u2500\u2500\u2500\u2500\u2500\u2500\u2500\u2500\u2500\u2500\u2500\u2500\u2500\u2500\u2500\u2500\u2500\u2500\u2500\u253c\u2500\u2500\u2500\u2500\u2500\u2500\u2500\u2500\u2500\u2500\u2500\u2500\u2500\u2500\u2500\u2500\u2500\u2500\u2500\u253c\u2500\u2500\u2500\u2500\u2500\u2500\u2500\u2500\u2500\u2500\u2500\u2500\u253c\u2500\u2500\u2500\u2500\u2500\u2500\u2500\u2500\u2500\u2500\u2500\u2500\u2500\u2500\u2500\u2500\u2500\u2500\u2500\u2524\n",
              "\u2502 concatenate         \u2502 (<span style=\"color: #00d7ff; text-decoration-color: #00d7ff\">None</span>, <span style=\"color: #00af00; text-decoration-color: #00af00\">2304</span>)      \u2502          <span style=\"color: #00af00; text-decoration-color: #00af00\">0</span> \u2502 flatten[<span style=\"color: #00af00; text-decoration-color: #00af00\">2</span>][<span style=\"color: #00af00; text-decoration-color: #00af00\">0</span>],    \u2502\n",
              "\u2502 (<span style=\"color: #0087ff; text-decoration-color: #0087ff\">Concatenate</span>)       \u2502                   \u2502            \u2502 keras_tensor_784\u2026 \u2502\n",
              "\u251c\u2500\u2500\u2500\u2500\u2500\u2500\u2500\u2500\u2500\u2500\u2500\u2500\u2500\u2500\u2500\u2500\u2500\u2500\u2500\u2500\u2500\u253c\u2500\u2500\u2500\u2500\u2500\u2500\u2500\u2500\u2500\u2500\u2500\u2500\u2500\u2500\u2500\u2500\u2500\u2500\u2500\u253c\u2500\u2500\u2500\u2500\u2500\u2500\u2500\u2500\u2500\u2500\u2500\u2500\u253c\u2500\u2500\u2500\u2500\u2500\u2500\u2500\u2500\u2500\u2500\u2500\u2500\u2500\u2500\u2500\u2500\u2500\u2500\u2500\u2524\n",
              "\u2502 dense (<span style=\"color: #0087ff; text-decoration-color: #0087ff\">Dense</span>)       \u2502 (<span style=\"color: #00d7ff; text-decoration-color: #00d7ff\">None</span>, <span style=\"color: #00af00; text-decoration-color: #00af00\">1024</span>)      \u2502  <span style=\"color: #00af00; text-decoration-color: #00af00\">2,360,320</span> \u2502 concatenate[<span style=\"color: #00af00; text-decoration-color: #00af00\">2</span>][<span style=\"color: #00af00; text-decoration-color: #00af00\">0</span>] \u2502\n",
              "\u251c\u2500\u2500\u2500\u2500\u2500\u2500\u2500\u2500\u2500\u2500\u2500\u2500\u2500\u2500\u2500\u2500\u2500\u2500\u2500\u2500\u2500\u253c\u2500\u2500\u2500\u2500\u2500\u2500\u2500\u2500\u2500\u2500\u2500\u2500\u2500\u2500\u2500\u2500\u2500\u2500\u2500\u253c\u2500\u2500\u2500\u2500\u2500\u2500\u2500\u2500\u2500\u2500\u2500\u2500\u253c\u2500\u2500\u2500\u2500\u2500\u2500\u2500\u2500\u2500\u2500\u2500\u2500\u2500\u2500\u2500\u2500\u2500\u2500\u2500\u2524\n",
              "\u2502 dense_1 (<span style=\"color: #0087ff; text-decoration-color: #0087ff\">Dense</span>)     \u2502 (<span style=\"color: #00d7ff; text-decoration-color: #00d7ff\">None</span>, <span style=\"color: #00af00; text-decoration-color: #00af00\">512</span>)       \u2502    <span style=\"color: #00af00; text-decoration-color: #00af00\">524,800</span> \u2502 dense[<span style=\"color: #00af00; text-decoration-color: #00af00\">2</span>][<span style=\"color: #00af00; text-decoration-color: #00af00\">0</span>]       \u2502\n",
              "\u251c\u2500\u2500\u2500\u2500\u2500\u2500\u2500\u2500\u2500\u2500\u2500\u2500\u2500\u2500\u2500\u2500\u2500\u2500\u2500\u2500\u2500\u253c\u2500\u2500\u2500\u2500\u2500\u2500\u2500\u2500\u2500\u2500\u2500\u2500\u2500\u2500\u2500\u2500\u2500\u2500\u2500\u253c\u2500\u2500\u2500\u2500\u2500\u2500\u2500\u2500\u2500\u2500\u2500\u2500\u253c\u2500\u2500\u2500\u2500\u2500\u2500\u2500\u2500\u2500\u2500\u2500\u2500\u2500\u2500\u2500\u2500\u2500\u2500\u2500\u2524\n",
              "\u2502 dropout (<span style=\"color: #0087ff; text-decoration-color: #0087ff\">Dropout</span>)   \u2502 (<span style=\"color: #00d7ff; text-decoration-color: #00d7ff\">None</span>, <span style=\"color: #00af00; text-decoration-color: #00af00\">512</span>)       \u2502          <span style=\"color: #00af00; text-decoration-color: #00af00\">0</span> \u2502 dense_1[<span style=\"color: #00af00; text-decoration-color: #00af00\">2</span>][<span style=\"color: #00af00; text-decoration-color: #00af00\">0</span>]     \u2502\n",
              "\u251c\u2500\u2500\u2500\u2500\u2500\u2500\u2500\u2500\u2500\u2500\u2500\u2500\u2500\u2500\u2500\u2500\u2500\u2500\u2500\u2500\u2500\u253c\u2500\u2500\u2500\u2500\u2500\u2500\u2500\u2500\u2500\u2500\u2500\u2500\u2500\u2500\u2500\u2500\u2500\u2500\u2500\u253c\u2500\u2500\u2500\u2500\u2500\u2500\u2500\u2500\u2500\u2500\u2500\u2500\u253c\u2500\u2500\u2500\u2500\u2500\u2500\u2500\u2500\u2500\u2500\u2500\u2500\u2500\u2500\u2500\u2500\u2500\u2500\u2500\u2524\n",
              "\u2502 dense_2 (<span style=\"color: #0087ff; text-decoration-color: #0087ff\">Dense</span>)     \u2502 (<span style=\"color: #00d7ff; text-decoration-color: #00d7ff\">None</span>, <span style=\"color: #00af00; text-decoration-color: #00af00\">256</span>)       \u2502    <span style=\"color: #00af00; text-decoration-color: #00af00\">131,328</span> \u2502 dropout[<span style=\"color: #00af00; text-decoration-color: #00af00\">2</span>][<span style=\"color: #00af00; text-decoration-color: #00af00\">0</span>]     \u2502\n",
              "\u251c\u2500\u2500\u2500\u2500\u2500\u2500\u2500\u2500\u2500\u2500\u2500\u2500\u2500\u2500\u2500\u2500\u2500\u2500\u2500\u2500\u2500\u253c\u2500\u2500\u2500\u2500\u2500\u2500\u2500\u2500\u2500\u2500\u2500\u2500\u2500\u2500\u2500\u2500\u2500\u2500\u2500\u253c\u2500\u2500\u2500\u2500\u2500\u2500\u2500\u2500\u2500\u2500\u2500\u2500\u253c\u2500\u2500\u2500\u2500\u2500\u2500\u2500\u2500\u2500\u2500\u2500\u2500\u2500\u2500\u2500\u2500\u2500\u2500\u2500\u2524\n",
              "\u2502 dense_3 (<span style=\"color: #0087ff; text-decoration-color: #0087ff\">Dense</span>)     \u2502 (<span style=\"color: #00d7ff; text-decoration-color: #00d7ff\">None</span>, <span style=\"color: #00af00; text-decoration-color: #00af00\">128</span>)       \u2502     <span style=\"color: #00af00; text-decoration-color: #00af00\">32,896</span> \u2502 dense_2[<span style=\"color: #00af00; text-decoration-color: #00af00\">2</span>][<span style=\"color: #00af00; text-decoration-color: #00af00\">0</span>]     \u2502\n",
              "\u251c\u2500\u2500\u2500\u2500\u2500\u2500\u2500\u2500\u2500\u2500\u2500\u2500\u2500\u2500\u2500\u2500\u2500\u2500\u2500\u2500\u2500\u253c\u2500\u2500\u2500\u2500\u2500\u2500\u2500\u2500\u2500\u2500\u2500\u2500\u2500\u2500\u2500\u2500\u2500\u2500\u2500\u253c\u2500\u2500\u2500\u2500\u2500\u2500\u2500\u2500\u2500\u2500\u2500\u2500\u253c\u2500\u2500\u2500\u2500\u2500\u2500\u2500\u2500\u2500\u2500\u2500\u2500\u2500\u2500\u2500\u2500\u2500\u2500\u2500\u2524\n",
              "\u2502 dropout_1 (<span style=\"color: #0087ff; text-decoration-color: #0087ff\">Dropout</span>) \u2502 (<span style=\"color: #00d7ff; text-decoration-color: #00d7ff\">None</span>, <span style=\"color: #00af00; text-decoration-color: #00af00\">128</span>)       \u2502          <span style=\"color: #00af00; text-decoration-color: #00af00\">0</span> \u2502 dense_3[<span style=\"color: #00af00; text-decoration-color: #00af00\">2</span>][<span style=\"color: #00af00; text-decoration-color: #00af00\">0</span>]     \u2502\n",
              "\u251c\u2500\u2500\u2500\u2500\u2500\u2500\u2500\u2500\u2500\u2500\u2500\u2500\u2500\u2500\u2500\u2500\u2500\u2500\u2500\u2500\u2500\u253c\u2500\u2500\u2500\u2500\u2500\u2500\u2500\u2500\u2500\u2500\u2500\u2500\u2500\u2500\u2500\u2500\u2500\u2500\u2500\u253c\u2500\u2500\u2500\u2500\u2500\u2500\u2500\u2500\u2500\u2500\u2500\u2500\u253c\u2500\u2500\u2500\u2500\u2500\u2500\u2500\u2500\u2500\u2500\u2500\u2500\u2500\u2500\u2500\u2500\u2500\u2500\u2500\u2524\n",
              "\u2502 dense_4 (<span style=\"color: #0087ff; text-decoration-color: #0087ff\">Dense</span>)     \u2502 (<span style=\"color: #00d7ff; text-decoration-color: #00d7ff\">None</span>, <span style=\"color: #00af00; text-decoration-color: #00af00\">2</span>)         \u2502        <span style=\"color: #00af00; text-decoration-color: #00af00\">258</span> \u2502 dropout_1[<span style=\"color: #00af00; text-decoration-color: #00af00\">2</span>][<span style=\"color: #00af00; text-decoration-color: #00af00\">0</span>]   \u2502\n",
              "\u2514\u2500\u2500\u2500\u2500\u2500\u2500\u2500\u2500\u2500\u2500\u2500\u2500\u2500\u2500\u2500\u2500\u2500\u2500\u2500\u2500\u2500\u2534\u2500\u2500\u2500\u2500\u2500\u2500\u2500\u2500\u2500\u2500\u2500\u2500\u2500\u2500\u2500\u2500\u2500\u2500\u2500\u2534\u2500\u2500\u2500\u2500\u2500\u2500\u2500\u2500\u2500\u2500\u2500\u2500\u2534\u2500\u2500\u2500\u2500\u2500\u2500\u2500\u2500\u2500\u2500\u2500\u2500\u2500\u2500\u2500\u2500\u2500\u2500\u2500\u2518\n",
              "</pre>\n"
            ],
            "text/plain": [
              "\u250f\u2501\u2501\u2501\u2501\u2501\u2501\u2501\u2501\u2501\u2501\u2501\u2501\u2501\u2501\u2501\u2501\u2501\u2501\u2501\u2501\u2501\u2533\u2501\u2501\u2501\u2501\u2501\u2501\u2501\u2501\u2501\u2501\u2501\u2501\u2501\u2501\u2501\u2501\u2501\u2501\u2501\u2533\u2501\u2501\u2501\u2501\u2501\u2501\u2501\u2501\u2501\u2501\u2501\u2501\u2533\u2501\u2501\u2501\u2501\u2501\u2501\u2501\u2501\u2501\u2501\u2501\u2501\u2501\u2501\u2501\u2501\u2501\u2501\u2501\u2513\n",
              "\u2503\u001b[1m \u001b[0m\u001b[1mLayer (type)       \u001b[0m\u001b[1m \u001b[0m\u2503\u001b[1m \u001b[0m\u001b[1mOutput Shape     \u001b[0m\u001b[1m \u001b[0m\u2503\u001b[1m \u001b[0m\u001b[1m   Param #\u001b[0m\u001b[1m \u001b[0m\u2503\u001b[1m \u001b[0m\u001b[1mConnected to     \u001b[0m\u001b[1m \u001b[0m\u2503\n",
              "\u2521\u2501\u2501\u2501\u2501\u2501\u2501\u2501\u2501\u2501\u2501\u2501\u2501\u2501\u2501\u2501\u2501\u2501\u2501\u2501\u2501\u2501\u2547\u2501\u2501\u2501\u2501\u2501\u2501\u2501\u2501\u2501\u2501\u2501\u2501\u2501\u2501\u2501\u2501\u2501\u2501\u2501\u2547\u2501\u2501\u2501\u2501\u2501\u2501\u2501\u2501\u2501\u2501\u2501\u2501\u2547\u2501\u2501\u2501\u2501\u2501\u2501\u2501\u2501\u2501\u2501\u2501\u2501\u2501\u2501\u2501\u2501\u2501\u2501\u2501\u2529\n",
              "\u2502 input_layer         \u2502 (\u001b[38;5;45mNone\u001b[0m, \u001b[38;5;34m128\u001b[0m, \u001b[38;5;34m128\u001b[0m,  \u2502          \u001b[38;5;34m0\u001b[0m \u2502 -                 \u2502\n",
              "\u2502 (\u001b[38;5;33mInputLayer\u001b[0m)        \u2502 \u001b[38;5;34m3\u001b[0m)                \u2502            \u2502                   \u2502\n",
              "\u251c\u2500\u2500\u2500\u2500\u2500\u2500\u2500\u2500\u2500\u2500\u2500\u2500\u2500\u2500\u2500\u2500\u2500\u2500\u2500\u2500\u2500\u253c\u2500\u2500\u2500\u2500\u2500\u2500\u2500\u2500\u2500\u2500\u2500\u2500\u2500\u2500\u2500\u2500\u2500\u2500\u2500\u253c\u2500\u2500\u2500\u2500\u2500\u2500\u2500\u2500\u2500\u2500\u2500\u2500\u253c\u2500\u2500\u2500\u2500\u2500\u2500\u2500\u2500\u2500\u2500\u2500\u2500\u2500\u2500\u2500\u2500\u2500\u2500\u2500\u2524\n",
              "\u2502 inception_resnet_v2 \u2502 (\u001b[38;5;45mNone\u001b[0m, \u001b[38;5;34m2\u001b[0m, \u001b[38;5;34m2\u001b[0m,      \u2502 \u001b[38;5;34m54,336,736\u001b[0m \u2502 input_layer[\u001b[38;5;34m2\u001b[0m][\u001b[38;5;34m0\u001b[0m] \u2502\n",
              "\u2502 (\u001b[38;5;33mFunctional\u001b[0m)        \u2502 \u001b[38;5;34m1536\u001b[0m)             \u2502            \u2502                   \u2502\n",
              "\u251c\u2500\u2500\u2500\u2500\u2500\u2500\u2500\u2500\u2500\u2500\u2500\u2500\u2500\u2500\u2500\u2500\u2500\u2500\u2500\u2500\u2500\u253c\u2500\u2500\u2500\u2500\u2500\u2500\u2500\u2500\u2500\u2500\u2500\u2500\u2500\u2500\u2500\u2500\u2500\u2500\u2500\u253c\u2500\u2500\u2500\u2500\u2500\u2500\u2500\u2500\u2500\u2500\u2500\u2500\u253c\u2500\u2500\u2500\u2500\u2500\u2500\u2500\u2500\u2500\u2500\u2500\u2500\u2500\u2500\u2500\u2500\u2500\u2500\u2500\u2524\n",
              "\u2502 global_average_poo\u2026 \u2502 (\u001b[38;5;45mNone\u001b[0m, \u001b[38;5;34m1536\u001b[0m)      \u2502          \u001b[38;5;34m0\u001b[0m \u2502 inception_resnet\u2026 \u2502\n",
              "\u2502 (\u001b[38;5;33mGlobalAveragePool\u2026\u001b[0m \u2502                   \u2502            \u2502                   \u2502\n",
              "\u251c\u2500\u2500\u2500\u2500\u2500\u2500\u2500\u2500\u2500\u2500\u2500\u2500\u2500\u2500\u2500\u2500\u2500\u2500\u2500\u2500\u2500\u253c\u2500\u2500\u2500\u2500\u2500\u2500\u2500\u2500\u2500\u2500\u2500\u2500\u2500\u2500\u2500\u2500\u2500\u2500\u2500\u253c\u2500\u2500\u2500\u2500\u2500\u2500\u2500\u2500\u2500\u2500\u2500\u2500\u253c\u2500\u2500\u2500\u2500\u2500\u2500\u2500\u2500\u2500\u2500\u2500\u2500\u2500\u2500\u2500\u2500\u2500\u2500\u2500\u2524\n",
              "\u2502 flatten (\u001b[38;5;33mFlatten\u001b[0m)   \u2502 (\u001b[38;5;45mNone\u001b[0m, \u001b[38;5;34m1536\u001b[0m)      \u2502          \u001b[38;5;34m0\u001b[0m \u2502 global_average_p\u2026 \u2502\n",
              "\u251c\u2500\u2500\u2500\u2500\u2500\u2500\u2500\u2500\u2500\u2500\u2500\u2500\u2500\u2500\u2500\u2500\u2500\u2500\u2500\u2500\u2500\u253c\u2500\u2500\u2500\u2500\u2500\u2500\u2500\u2500\u2500\u2500\u2500\u2500\u2500\u2500\u2500\u2500\u2500\u2500\u2500\u253c\u2500\u2500\u2500\u2500\u2500\u2500\u2500\u2500\u2500\u2500\u2500\u2500\u253c\u2500\u2500\u2500\u2500\u2500\u2500\u2500\u2500\u2500\u2500\u2500\u2500\u2500\u2500\u2500\u2500\u2500\u2500\u2500\u2524\n",
              "\u2502 keras_tensor_784CL\u2026 \u2502 (\u001b[38;5;45mNone\u001b[0m, \u001b[38;5;34m768\u001b[0m)       \u2502          \u001b[38;5;34m0\u001b[0m \u2502 -                 \u2502\n",
              "\u2502 (\u001b[38;5;33mInputLayer\u001b[0m)        \u2502                   \u2502            \u2502                   \u2502\n",
              "\u251c\u2500\u2500\u2500\u2500\u2500\u2500\u2500\u2500\u2500\u2500\u2500\u2500\u2500\u2500\u2500\u2500\u2500\u2500\u2500\u2500\u2500\u253c\u2500\u2500\u2500\u2500\u2500\u2500\u2500\u2500\u2500\u2500\u2500\u2500\u2500\u2500\u2500\u2500\u2500\u2500\u2500\u253c\u2500\u2500\u2500\u2500\u2500\u2500\u2500\u2500\u2500\u2500\u2500\u2500\u253c\u2500\u2500\u2500\u2500\u2500\u2500\u2500\u2500\u2500\u2500\u2500\u2500\u2500\u2500\u2500\u2500\u2500\u2500\u2500\u2524\n",
              "\u2502 concatenate         \u2502 (\u001b[38;5;45mNone\u001b[0m, \u001b[38;5;34m2304\u001b[0m)      \u2502          \u001b[38;5;34m0\u001b[0m \u2502 flatten[\u001b[38;5;34m2\u001b[0m][\u001b[38;5;34m0\u001b[0m],    \u2502\n",
              "\u2502 (\u001b[38;5;33mConcatenate\u001b[0m)       \u2502                   \u2502            \u2502 keras_tensor_784\u2026 \u2502\n",
              "\u251c\u2500\u2500\u2500\u2500\u2500\u2500\u2500\u2500\u2500\u2500\u2500\u2500\u2500\u2500\u2500\u2500\u2500\u2500\u2500\u2500\u2500\u253c\u2500\u2500\u2500\u2500\u2500\u2500\u2500\u2500\u2500\u2500\u2500\u2500\u2500\u2500\u2500\u2500\u2500\u2500\u2500\u253c\u2500\u2500\u2500\u2500\u2500\u2500\u2500\u2500\u2500\u2500\u2500\u2500\u253c\u2500\u2500\u2500\u2500\u2500\u2500\u2500\u2500\u2500\u2500\u2500\u2500\u2500\u2500\u2500\u2500\u2500\u2500\u2500\u2524\n",
              "\u2502 dense (\u001b[38;5;33mDense\u001b[0m)       \u2502 (\u001b[38;5;45mNone\u001b[0m, \u001b[38;5;34m1024\u001b[0m)      \u2502  \u001b[38;5;34m2,360,320\u001b[0m \u2502 concatenate[\u001b[38;5;34m2\u001b[0m][\u001b[38;5;34m0\u001b[0m] \u2502\n",
              "\u251c\u2500\u2500\u2500\u2500\u2500\u2500\u2500\u2500\u2500\u2500\u2500\u2500\u2500\u2500\u2500\u2500\u2500\u2500\u2500\u2500\u2500\u253c\u2500\u2500\u2500\u2500\u2500\u2500\u2500\u2500\u2500\u2500\u2500\u2500\u2500\u2500\u2500\u2500\u2500\u2500\u2500\u253c\u2500\u2500\u2500\u2500\u2500\u2500\u2500\u2500\u2500\u2500\u2500\u2500\u253c\u2500\u2500\u2500\u2500\u2500\u2500\u2500\u2500\u2500\u2500\u2500\u2500\u2500\u2500\u2500\u2500\u2500\u2500\u2500\u2524\n",
              "\u2502 dense_1 (\u001b[38;5;33mDense\u001b[0m)     \u2502 (\u001b[38;5;45mNone\u001b[0m, \u001b[38;5;34m512\u001b[0m)       \u2502    \u001b[38;5;34m524,800\u001b[0m \u2502 dense[\u001b[38;5;34m2\u001b[0m][\u001b[38;5;34m0\u001b[0m]       \u2502\n",
              "\u251c\u2500\u2500\u2500\u2500\u2500\u2500\u2500\u2500\u2500\u2500\u2500\u2500\u2500\u2500\u2500\u2500\u2500\u2500\u2500\u2500\u2500\u253c\u2500\u2500\u2500\u2500\u2500\u2500\u2500\u2500\u2500\u2500\u2500\u2500\u2500\u2500\u2500\u2500\u2500\u2500\u2500\u253c\u2500\u2500\u2500\u2500\u2500\u2500\u2500\u2500\u2500\u2500\u2500\u2500\u253c\u2500\u2500\u2500\u2500\u2500\u2500\u2500\u2500\u2500\u2500\u2500\u2500\u2500\u2500\u2500\u2500\u2500\u2500\u2500\u2524\n",
              "\u2502 dropout (\u001b[38;5;33mDropout\u001b[0m)   \u2502 (\u001b[38;5;45mNone\u001b[0m, \u001b[38;5;34m512\u001b[0m)       \u2502          \u001b[38;5;34m0\u001b[0m \u2502 dense_1[\u001b[38;5;34m2\u001b[0m][\u001b[38;5;34m0\u001b[0m]     \u2502\n",
              "\u251c\u2500\u2500\u2500\u2500\u2500\u2500\u2500\u2500\u2500\u2500\u2500\u2500\u2500\u2500\u2500\u2500\u2500\u2500\u2500\u2500\u2500\u253c\u2500\u2500\u2500\u2500\u2500\u2500\u2500\u2500\u2500\u2500\u2500\u2500\u2500\u2500\u2500\u2500\u2500\u2500\u2500\u253c\u2500\u2500\u2500\u2500\u2500\u2500\u2500\u2500\u2500\u2500\u2500\u2500\u253c\u2500\u2500\u2500\u2500\u2500\u2500\u2500\u2500\u2500\u2500\u2500\u2500\u2500\u2500\u2500\u2500\u2500\u2500\u2500\u2524\n",
              "\u2502 dense_2 (\u001b[38;5;33mDense\u001b[0m)     \u2502 (\u001b[38;5;45mNone\u001b[0m, \u001b[38;5;34m256\u001b[0m)       \u2502    \u001b[38;5;34m131,328\u001b[0m \u2502 dropout[\u001b[38;5;34m2\u001b[0m][\u001b[38;5;34m0\u001b[0m]     \u2502\n",
              "\u251c\u2500\u2500\u2500\u2500\u2500\u2500\u2500\u2500\u2500\u2500\u2500\u2500\u2500\u2500\u2500\u2500\u2500\u2500\u2500\u2500\u2500\u253c\u2500\u2500\u2500\u2500\u2500\u2500\u2500\u2500\u2500\u2500\u2500\u2500\u2500\u2500\u2500\u2500\u2500\u2500\u2500\u253c\u2500\u2500\u2500\u2500\u2500\u2500\u2500\u2500\u2500\u2500\u2500\u2500\u253c\u2500\u2500\u2500\u2500\u2500\u2500\u2500\u2500\u2500\u2500\u2500\u2500\u2500\u2500\u2500\u2500\u2500\u2500\u2500\u2524\n",
              "\u2502 dense_3 (\u001b[38;5;33mDense\u001b[0m)     \u2502 (\u001b[38;5;45mNone\u001b[0m, \u001b[38;5;34m128\u001b[0m)       \u2502     \u001b[38;5;34m32,896\u001b[0m \u2502 dense_2[\u001b[38;5;34m2\u001b[0m][\u001b[38;5;34m0\u001b[0m]     \u2502\n",
              "\u251c\u2500\u2500\u2500\u2500\u2500\u2500\u2500\u2500\u2500\u2500\u2500\u2500\u2500\u2500\u2500\u2500\u2500\u2500\u2500\u2500\u2500\u253c\u2500\u2500\u2500\u2500\u2500\u2500\u2500\u2500\u2500\u2500\u2500\u2500\u2500\u2500\u2500\u2500\u2500\u2500\u2500\u253c\u2500\u2500\u2500\u2500\u2500\u2500\u2500\u2500\u2500\u2500\u2500\u2500\u253c\u2500\u2500\u2500\u2500\u2500\u2500\u2500\u2500\u2500\u2500\u2500\u2500\u2500\u2500\u2500\u2500\u2500\u2500\u2500\u2524\n",
              "\u2502 dropout_1 (\u001b[38;5;33mDropout\u001b[0m) \u2502 (\u001b[38;5;45mNone\u001b[0m, \u001b[38;5;34m128\u001b[0m)       \u2502          \u001b[38;5;34m0\u001b[0m \u2502 dense_3[\u001b[38;5;34m2\u001b[0m][\u001b[38;5;34m0\u001b[0m]     \u2502\n",
              "\u251c\u2500\u2500\u2500\u2500\u2500\u2500\u2500\u2500\u2500\u2500\u2500\u2500\u2500\u2500\u2500\u2500\u2500\u2500\u2500\u2500\u2500\u253c\u2500\u2500\u2500\u2500\u2500\u2500\u2500\u2500\u2500\u2500\u2500\u2500\u2500\u2500\u2500\u2500\u2500\u2500\u2500\u253c\u2500\u2500\u2500\u2500\u2500\u2500\u2500\u2500\u2500\u2500\u2500\u2500\u253c\u2500\u2500\u2500\u2500\u2500\u2500\u2500\u2500\u2500\u2500\u2500\u2500\u2500\u2500\u2500\u2500\u2500\u2500\u2500\u2524\n",
              "\u2502 dense_4 (\u001b[38;5;33mDense\u001b[0m)     \u2502 (\u001b[38;5;45mNone\u001b[0m, \u001b[38;5;34m2\u001b[0m)         \u2502        \u001b[38;5;34m258\u001b[0m \u2502 dropout_1[\u001b[38;5;34m2\u001b[0m][\u001b[38;5;34m0\u001b[0m]   \u2502\n",
              "\u2514\u2500\u2500\u2500\u2500\u2500\u2500\u2500\u2500\u2500\u2500\u2500\u2500\u2500\u2500\u2500\u2500\u2500\u2500\u2500\u2500\u2500\u2534\u2500\u2500\u2500\u2500\u2500\u2500\u2500\u2500\u2500\u2500\u2500\u2500\u2500\u2500\u2500\u2500\u2500\u2500\u2500\u2534\u2500\u2500\u2500\u2500\u2500\u2500\u2500\u2500\u2500\u2500\u2500\u2500\u2534\u2500\u2500\u2500\u2500\u2500\u2500\u2500\u2500\u2500\u2500\u2500\u2500\u2500\u2500\u2500\u2500\u2500\u2500\u2500\u2518\n"
            ]
          },
          "metadata": {},
          "output_type": "display_data"
        },
        {
          "data": {
            "text/html": [
              "<pre style=\"white-space:pre;overflow-x:auto;line-height:normal;font-family:Menlo,'DejaVu Sans Mono',consolas,'Courier New',monospace\"><span style=\"font-weight: bold\"> Total params: </span><span style=\"color: #00af00; text-decoration-color: #00af00\">57,386,338</span> (218.91 MB)\n",
              "</pre>\n"
            ],
            "text/plain": [
              "\u001b[1m Total params: \u001b[0m\u001b[38;5;34m57,386,338\u001b[0m (218.91 MB)\n"
            ]
          },
          "metadata": {},
          "output_type": "display_data"
        },
        {
          "data": {
            "text/html": [
              "<pre style=\"white-space:pre;overflow-x:auto;line-height:normal;font-family:Menlo,'DejaVu Sans Mono',consolas,'Courier New',monospace\"><span style=\"font-weight: bold\"> Trainable params: </span><span style=\"color: #00af00; text-decoration-color: #00af00\">57,325,794</span> (218.68 MB)\n",
              "</pre>\n"
            ],
            "text/plain": [
              "\u001b[1m Trainable params: \u001b[0m\u001b[38;5;34m57,325,794\u001b[0m (218.68 MB)\n"
            ]
          },
          "metadata": {},
          "output_type": "display_data"
        },
        {
          "data": {
            "text/html": [
              "<pre style=\"white-space:pre;overflow-x:auto;line-height:normal;font-family:Menlo,'DejaVu Sans Mono',consolas,'Courier New',monospace\"><span style=\"font-weight: bold\"> Non-trainable params: </span><span style=\"color: #00af00; text-decoration-color: #00af00\">60,544</span> (236.50 KB)\n",
              "</pre>\n"
            ],
            "text/plain": [
              "\u001b[1m Non-trainable params: \u001b[0m\u001b[38;5;34m60,544\u001b[0m (236.50 KB)\n"
            ]
          },
          "metadata": {},
          "output_type": "display_data"
        }
      ],
      "source": [
        "model.summary()"
      ]
    },
    {
      "cell_type": "markdown",
      "id": "1eaa9282",
      "metadata": {
        "papermill": {
          "duration": 0.015496,
          "end_time": "2024-05-31T08:01:07.439406",
          "exception": false,
          "start_time": "2024-05-31T08:01:07.423910",
          "status": "completed"
        },
        "tags": [],
        "id": "1eaa9282"
      },
      "source": []
    },
    {
      "cell_type": "code",
      "execution_count": null,
      "id": "7a0a51d8",
      "metadata": {
        "execution": {
          "iopub.execute_input": "2024-05-31T08:01:07.471846Z",
          "iopub.status.busy": "2024-05-31T08:01:07.471560Z",
          "iopub.status.idle": "2024-05-31T08:10:50.410040Z",
          "shell.execute_reply": "2024-05-31T08:10:50.409066Z"
        },
        "papermill": {
          "duration": 582.956719,
          "end_time": "2024-05-31T08:10:50.412070",
          "exception": false,
          "start_time": "2024-05-31T08:01:07.455351",
          "status": "completed"
        },
        "tags": [],
        "id": "7a0a51d8",
        "outputId": "9ff6ee8b-5d14-42d4-a4a1-a891fe998ccc"
      },
      "outputs": [
        {
          "name": "stdout",
          "output_type": "stream",
          "text": [
            "Epoch 1/20\n"
          ]
        },
        {
          "name": "stderr",
          "output_type": "stream",
          "text": [
            "WARNING: All log messages before absl::InitializeLog() is called are written to STDERR\n",
            "I0000 00:00:1717142666.355574      72 device_compiler.h:186] Compiled cluster using XLA!  This line is logged at most once for the lifetime of the process.\n"
          ]
        },
        {
          "name": "stdout",
          "output_type": "stream",
          "text": [
            "\u001b[1m63/63\u001b[0m \u001b[32m\u2501\u2501\u2501\u2501\u2501\u2501\u2501\u2501\u2501\u2501\u2501\u2501\u2501\u2501\u2501\u2501\u2501\u2501\u2501\u2501\u001b[0m\u001b[37m\u001b[0m \u001b[1m344s\u001b[0m 2s/step - accuracy: 0.6116 - loss: 0.8099 - val_accuracy: 0.4720 - val_loss: 2.5680\n",
            "Epoch 2/20\n",
            "\u001b[1m63/63\u001b[0m \u001b[32m\u2501\u2501\u2501\u2501\u2501\u2501\u2501\u2501\u2501\u2501\u2501\u2501\u2501\u2501\u2501\u2501\u2501\u2501\u2501\u2501\u001b[0m\u001b[37m\u001b[0m \u001b[1m13s\u001b[0m 197ms/step - accuracy: 0.6896 - loss: 0.6241 - val_accuracy: 0.5000 - val_loss: 6.9255\n",
            "Epoch 3/20\n",
            "\u001b[1m63/63\u001b[0m \u001b[32m\u2501\u2501\u2501\u2501\u2501\u2501\u2501\u2501\u2501\u2501\u2501\u2501\u2501\u2501\u2501\u2501\u2501\u2501\u2501\u2501\u001b[0m\u001b[37m\u001b[0m \u001b[1m13s\u001b[0m 200ms/step - accuracy: 0.6992 - loss: 0.6060 - val_accuracy: 0.5040 - val_loss: 1.6095\n",
            "Epoch 4/20\n",
            "\u001b[1m63/63\u001b[0m \u001b[32m\u2501\u2501\u2501\u2501\u2501\u2501\u2501\u2501\u2501\u2501\u2501\u2501\u2501\u2501\u2501\u2501\u2501\u2501\u2501\u2501\u001b[0m\u001b[37m\u001b[0m \u001b[1m13s\u001b[0m 202ms/step - accuracy: 0.6999 - loss: 0.5950 - val_accuracy: 0.5200 - val_loss: 0.8964\n",
            "Epoch 5/20\n",
            "\u001b[1m63/63\u001b[0m \u001b[32m\u2501\u2501\u2501\u2501\u2501\u2501\u2501\u2501\u2501\u2501\u2501\u2501\u2501\u2501\u2501\u2501\u2501\u2501\u2501\u2501\u001b[0m\u001b[37m\u001b[0m \u001b[1m13s\u001b[0m 200ms/step - accuracy: 0.7159 - loss: 0.5458 - val_accuracy: 0.5160 - val_loss: 0.8789\n",
            "Epoch 6/20\n",
            "\u001b[1m63/63\u001b[0m \u001b[32m\u2501\u2501\u2501\u2501\u2501\u2501\u2501\u2501\u2501\u2501\u2501\u2501\u2501\u2501\u2501\u2501\u2501\u2501\u2501\u2501\u001b[0m\u001b[37m\u001b[0m \u001b[1m12s\u001b[0m 198ms/step - accuracy: 0.7226 - loss: 0.5213 - val_accuracy: 0.5040 - val_loss: 1.7301\n",
            "Epoch 7/20\n",
            "\u001b[1m63/63\u001b[0m \u001b[32m\u2501\u2501\u2501\u2501\u2501\u2501\u2501\u2501\u2501\u2501\u2501\u2501\u2501\u2501\u2501\u2501\u2501\u2501\u2501\u2501\u001b[0m\u001b[37m\u001b[0m \u001b[1m12s\u001b[0m 198ms/step - accuracy: 0.7667 - loss: 0.4767 - val_accuracy: 0.5100 - val_loss: 0.8385\n",
            "Epoch 8/20\n",
            "\u001b[1m63/63\u001b[0m \u001b[32m\u2501\u2501\u2501\u2501\u2501\u2501\u2501\u2501\u2501\u2501\u2501\u2501\u2501\u2501\u2501\u2501\u2501\u2501\u2501\u2501\u001b[0m\u001b[37m\u001b[0m \u001b[1m12s\u001b[0m 197ms/step - accuracy: 0.8103 - loss: 0.4321 - val_accuracy: 0.5020 - val_loss: 2.2866\n",
            "Epoch 9/20\n",
            "\u001b[1m63/63\u001b[0m \u001b[32m\u2501\u2501\u2501\u2501\u2501\u2501\u2501\u2501\u2501\u2501\u2501\u2501\u2501\u2501\u2501\u2501\u2501\u2501\u2501\u2501\u001b[0m\u001b[37m\u001b[0m \u001b[1m12s\u001b[0m 198ms/step - accuracy: 0.7764 - loss: 0.4787 - val_accuracy: 0.5300 - val_loss: 0.7240\n",
            "Epoch 10/20\n",
            "\u001b[1m63/63\u001b[0m \u001b[32m\u2501\u2501\u2501\u2501\u2501\u2501\u2501\u2501\u2501\u2501\u2501\u2501\u2501\u2501\u2501\u2501\u2501\u2501\u2501\u2501\u001b[0m\u001b[37m\u001b[0m \u001b[1m13s\u001b[0m 200ms/step - accuracy: 0.7707 - loss: 0.4862 - val_accuracy: 0.5120 - val_loss: 64.7353\n",
            "Epoch 11/20\n",
            "\u001b[1m63/63\u001b[0m \u001b[32m\u2501\u2501\u2501\u2501\u2501\u2501\u2501\u2501\u2501\u2501\u2501\u2501\u2501\u2501\u2501\u2501\u2501\u2501\u2501\u2501\u001b[0m\u001b[37m\u001b[0m \u001b[1m13s\u001b[0m 199ms/step - accuracy: 0.8327 - loss: 0.3841 - val_accuracy: 0.5240 - val_loss: 0.9242\n",
            "Epoch 12/20\n",
            "\u001b[1m63/63\u001b[0m \u001b[32m\u2501\u2501\u2501\u2501\u2501\u2501\u2501\u2501\u2501\u2501\u2501\u2501\u2501\u2501\u2501\u2501\u2501\u2501\u2501\u2501\u001b[0m\u001b[37m\u001b[0m \u001b[1m13s\u001b[0m 199ms/step - accuracy: 0.8566 - loss: 0.3307 - val_accuracy: 0.5080 - val_loss: 2.3001\n",
            "Epoch 13/20\n",
            "\u001b[1m63/63\u001b[0m \u001b[32m\u2501\u2501\u2501\u2501\u2501\u2501\u2501\u2501\u2501\u2501\u2501\u2501\u2501\u2501\u2501\u2501\u2501\u2501\u2501\u2501\u001b[0m\u001b[37m\u001b[0m \u001b[1m12s\u001b[0m 198ms/step - accuracy: 0.8960 - loss: 0.2647 - val_accuracy: 0.5300 - val_loss: 2.9458\n",
            "Epoch 14/20\n",
            "\u001b[1m63/63\u001b[0m \u001b[32m\u2501\u2501\u2501\u2501\u2501\u2501\u2501\u2501\u2501\u2501\u2501\u2501\u2501\u2501\u2501\u2501\u2501\u2501\u2501\u2501\u001b[0m\u001b[37m\u001b[0m \u001b[1m12s\u001b[0m 198ms/step - accuracy: 0.8683 - loss: 0.3120 - val_accuracy: 0.5380 - val_loss: 1.0381\n",
            "Epoch 15/20\n",
            "\u001b[1m63/63\u001b[0m \u001b[32m\u2501\u2501\u2501\u2501\u2501\u2501\u2501\u2501\u2501\u2501\u2501\u2501\u2501\u2501\u2501\u2501\u2501\u2501\u2501\u2501\u001b[0m\u001b[37m\u001b[0m \u001b[1m12s\u001b[0m 197ms/step - accuracy: 0.8504 - loss: 0.3243 - val_accuracy: 0.5500 - val_loss: 0.9482\n",
            "Epoch 16/20\n",
            "\u001b[1m63/63\u001b[0m \u001b[32m\u2501\u2501\u2501\u2501\u2501\u2501\u2501\u2501\u2501\u2501\u2501\u2501\u2501\u2501\u2501\u2501\u2501\u2501\u2501\u2501\u001b[0m\u001b[37m\u001b[0m \u001b[1m12s\u001b[0m 197ms/step - accuracy: 0.8780 - loss: 0.2776 - val_accuracy: 0.5560 - val_loss: 1.1684\n",
            "Epoch 17/20\n",
            "\u001b[1m63/63\u001b[0m \u001b[32m\u2501\u2501\u2501\u2501\u2501\u2501\u2501\u2501\u2501\u2501\u2501\u2501\u2501\u2501\u2501\u2501\u2501\u2501\u2501\u2501\u001b[0m\u001b[37m\u001b[0m \u001b[1m12s\u001b[0m 198ms/step - accuracy: 0.9202 - loss: 0.2239 - val_accuracy: 0.5300 - val_loss: 1.9483\n",
            "Epoch 18/20\n",
            "\u001b[1m63/63\u001b[0m \u001b[32m\u2501\u2501\u2501\u2501\u2501\u2501\u2501\u2501\u2501\u2501\u2501\u2501\u2501\u2501\u2501\u2501\u2501\u2501\u2501\u2501\u001b[0m\u001b[37m\u001b[0m \u001b[1m13s\u001b[0m 198ms/step - accuracy: 0.9295 - loss: 0.1854 - val_accuracy: 0.5060 - val_loss: 154.7311\n",
            "Epoch 19/20\n",
            "\u001b[1m63/63\u001b[0m \u001b[32m\u2501\u2501\u2501\u2501\u2501\u2501\u2501\u2501\u2501\u2501\u2501\u2501\u2501\u2501\u2501\u2501\u2501\u2501\u2501\u2501\u001b[0m\u001b[37m\u001b[0m \u001b[1m13s\u001b[0m 199ms/step - accuracy: 0.8886 - loss: 0.2498 - val_accuracy: 0.5140 - val_loss: 1.8023\n",
            "Epoch 20/20\n",
            "\u001b[1m63/63\u001b[0m \u001b[32m\u2501\u2501\u2501\u2501\u2501\u2501\u2501\u2501\u2501\u2501\u2501\u2501\u2501\u2501\u2501\u2501\u2501\u2501\u2501\u2501\u001b[0m\u001b[37m\u001b[0m \u001b[1m12s\u001b[0m 198ms/step - accuracy: 0.9306 - loss: 0.1682 - val_accuracy: 0.4880 - val_loss: 2.2218\n"
          ]
        },
        {
          "data": {
            "text/plain": [
              "<keras.src.callbacks.history.History at 0x7dded8545d80>"
            ]
          },
          "execution_count": 20,
          "metadata": {},
          "output_type": "execute_result"
        }
      ],
      "source": [
        "# Train the model\n",
        "model.fit([train_images, train_text_embeddings], train_labels, epochs=20, batch_size=32,validation_data=([val_images, val_text_embeddings], val_labels))"
      ]
    },
    {
      "cell_type": "code",
      "execution_count": null,
      "id": "eaf5c896",
      "metadata": {
        "execution": {
          "iopub.execute_input": "2024-05-31T08:10:50.651798Z",
          "iopub.status.busy": "2024-05-31T08:10:50.651431Z",
          "iopub.status.idle": "2024-05-31T08:11:15.915495Z",
          "shell.execute_reply": "2024-05-31T08:11:15.914484Z"
        },
        "papermill": {
          "duration": 25.385018,
          "end_time": "2024-05-31T08:11:15.917726",
          "exception": false,
          "start_time": "2024-05-31T08:10:50.532708",
          "status": "completed"
        },
        "tags": [],
        "id": "eaf5c896",
        "outputId": "8ba757ac-70eb-40f2-b53f-728b5ca5b4a8"
      },
      "outputs": [
        {
          "name": "stdout",
          "output_type": "stream",
          "text": [
            "\u001b[1m16/16\u001b[0m \u001b[32m\u2501\u2501\u2501\u2501\u2501\u2501\u2501\u2501\u2501\u2501\u2501\u2501\u2501\u2501\u2501\u2501\u2501\u2501\u2501\u2501\u001b[0m\u001b[37m\u001b[0m \u001b[1m25s\u001b[0m 860ms/step\n"
          ]
        }
      ],
      "source": [
        "predictions = model.predict([val_images, val_text_embeddings])"
      ]
    },
    {
      "cell_type": "code",
      "execution_count": null,
      "id": "a897ae67",
      "metadata": {
        "execution": {
          "iopub.execute_input": "2024-05-31T08:11:16.161503Z",
          "iopub.status.busy": "2024-05-31T08:11:16.160681Z",
          "iopub.status.idle": "2024-05-31T08:11:16.165403Z",
          "shell.execute_reply": "2024-05-31T08:11:16.164499Z"
        },
        "papermill": {
          "duration": 0.128023,
          "end_time": "2024-05-31T08:11:16.167521",
          "exception": false,
          "start_time": "2024-05-31T08:11:16.039498",
          "status": "completed"
        },
        "tags": [],
        "id": "a897ae67"
      },
      "outputs": [],
      "source": [
        "predictions = np.argmax(predictions, axis=1)"
      ]
    },
    {
      "cell_type": "code",
      "execution_count": null,
      "id": "e5103c3d",
      "metadata": {
        "execution": {
          "iopub.execute_input": "2024-05-31T08:11:16.423917Z",
          "iopub.status.busy": "2024-05-31T08:11:16.422964Z",
          "iopub.status.idle": "2024-05-31T08:11:16.430629Z",
          "shell.execute_reply": "2024-05-31T08:11:16.429713Z"
        },
        "papermill": {
          "duration": 0.131213,
          "end_time": "2024-05-31T08:11:16.432487",
          "exception": false,
          "start_time": "2024-05-31T08:11:16.301274",
          "status": "completed"
        },
        "tags": [],
        "id": "e5103c3d",
        "outputId": "afffdc5f-ede5-487f-bfd1-425e46c85a2c"
      },
      "outputs": [
        {
          "data": {
            "text/plain": [
              "0.488"
            ]
          },
          "execution_count": 23,
          "metadata": {},
          "output_type": "execute_result"
        }
      ],
      "source": [
        "from sklearn.metrics import accuracy_score\n",
        "\n",
        "accuracy_score(val_labels, predictions)\n"
      ]
    },
    {
      "cell_type": "code",
      "execution_count": null,
      "id": "b1d89028",
      "metadata": {
        "execution": {
          "iopub.execute_input": "2024-05-31T08:11:16.680951Z",
          "iopub.status.busy": "2024-05-31T08:11:16.680237Z",
          "iopub.status.idle": "2024-05-31T08:11:16.931316Z",
          "shell.execute_reply": "2024-05-31T08:11:16.930392Z"
        },
        "papermill": {
          "duration": 0.378865,
          "end_time": "2024-05-31T08:11:16.933349",
          "exception": false,
          "start_time": "2024-05-31T08:11:16.554484",
          "status": "completed"
        },
        "tags": [],
        "id": "b1d89028",
        "outputId": "74f92010-e4dd-4f49-d0cc-b9144faab31b"
      },
      "outputs": [
        {
          "name": "stdout",
          "output_type": "stream",
          "text": [
            "              precision    recall  f1-score   support\n",
            "\n",
            " non_hateful       0.49      0.84      0.62       250\n",
            "     hateful       0.46      0.14      0.21       250\n",
            "\n",
            "    accuracy                           0.49       500\n",
            "   macro avg       0.48      0.49      0.42       500\n",
            "weighted avg       0.48      0.49      0.42       500\n",
            "\n"
          ]
        },
        {
          "data": {
            "image/png": "[encoded data removed]",
            "text/plain": [
              "<Figure size 1000x800 with 2 Axes>"
            ]
          },
          "metadata": {},
          "output_type": "display_data"
        }
      ],
      "source": [
        "from sklearn.metrics import classification_report, confusion_matrix\n",
        "\n",
        "print(classification_report(val_labels, predictions, target_names = ['non_hateful','hateful']))\n",
        "cm = confusion_matrix(val_labels, predictions)\n",
        "plt.figure(figsize=(10, 8))\n",
        "sns.heatmap(cm, annot=True, fmt=\"d\", cmap=\"Blues\", xticklabels=['non_hateful','hateful'], yticklabels= ['non_hateful','hateful'])\n",
        "plt.title('Confusion Matrix')\n",
        "plt.ylabel('Actual')\n",
        "plt.xlabel('Predicted')\n",
        "plt.show()"
      ]
    },
    {
      "cell_type": "code",
      "execution_count": null,
      "id": "93967617",
      "metadata": {
        "papermill": {
          "duration": 0.117065,
          "end_time": "2024-05-31T08:11:17.168524",
          "exception": false,
          "start_time": "2024-05-31T08:11:17.051459",
          "status": "completed"
        },
        "tags": [],
        "id": "93967617"
      },
      "outputs": [],
      "source": []
    },
    {
      "cell_type": "code",
      "execution_count": null,
      "id": "baeadff9",
      "metadata": {
        "papermill": {
          "duration": 0.118608,
          "end_time": "2024-05-31T08:11:17.405726",
          "exception": false,
          "start_time": "2024-05-31T08:11:17.287118",
          "status": "completed"
        },
        "tags": [],
        "id": "baeadff9"
      },
      "outputs": [],
      "source": []
    },
    {
      "cell_type": "code",
      "execution_count": null,
      "id": "7554ce8d",
      "metadata": {
        "papermill": {
          "duration": 0.118487,
          "end_time": "2024-05-31T08:11:17.641683",
          "exception": false,
          "start_time": "2024-05-31T08:11:17.523196",
          "status": "completed"
        },
        "tags": [],
        "id": "7554ce8d"
      },
      "outputs": [],
      "source": []
    },
    {
      "cell_type": "code",
      "execution_count": null,
      "id": "e4405cc1",
      "metadata": {
        "papermill": {
          "duration": 0.119495,
          "end_time": "2024-05-31T08:11:17.878573",
          "exception": false,
          "start_time": "2024-05-31T08:11:17.759078",
          "status": "completed"
        },
        "tags": [],
        "id": "e4405cc1"
      },
      "outputs": [],
      "source": []
    },
    {
      "cell_type": "code",
      "execution_count": null,
      "id": "169c6673",
      "metadata": {
        "papermill": {
          "duration": 0.117265,
          "end_time": "2024-05-31T08:11:18.114030",
          "exception": false,
          "start_time": "2024-05-31T08:11:17.996765",
          "status": "completed"
        },
        "tags": [],
        "id": "169c6673"
      },
      "outputs": [],
      "source": []
    },
    {
      "cell_type": "code",
      "execution_count": null,
      "id": "1d48d757",
      "metadata": {
        "papermill": {
          "duration": 0.118726,
          "end_time": "2024-05-31T08:11:18.350288",
          "exception": false,
          "start_time": "2024-05-31T08:11:18.231562",
          "status": "completed"
        },
        "tags": [],
        "id": "1d48d757"
      },
      "outputs": [],
      "source": []
    },
    {
      "cell_type": "code",
      "execution_count": null,
      "id": "71b7c633",
      "metadata": {
        "papermill": {
          "duration": 0.118523,
          "end_time": "2024-05-31T08:11:18.586866",
          "exception": false,
          "start_time": "2024-05-31T08:11:18.468343",
          "status": "completed"
        },
        "tags": [],
        "id": "71b7c633"
      },
      "outputs": [],
      "source": []
    },
    {
      "cell_type": "code",
      "execution_count": null,
      "id": "cdf1fc61",
      "metadata": {
        "papermill": {
          "duration": 0.118035,
          "end_time": "2024-05-31T08:11:18.822361",
          "exception": false,
          "start_time": "2024-05-31T08:11:18.704326",
          "status": "completed"
        },
        "tags": [],
        "id": "cdf1fc61"
      },
      "outputs": [],
      "source": []
    },
    {
      "cell_type": "code",
      "execution_count": null,
      "id": "1321428f",
      "metadata": {
        "papermill": {
          "duration": 0.117665,
          "end_time": "2024-05-31T08:11:19.059751",
          "exception": false,
          "start_time": "2024-05-31T08:11:18.942086",
          "status": "completed"
        },
        "tags": [],
        "id": "1321428f"
      },
      "outputs": [],
      "source": []
    },
    {
      "cell_type": "code",
      "execution_count": null,
      "id": "716d68ee",
      "metadata": {
        "papermill": {
          "duration": 0.126231,
          "end_time": "2024-05-31T08:11:19.304748",
          "exception": false,
          "start_time": "2024-05-31T08:11:19.178517",
          "status": "completed"
        },
        "tags": [],
        "id": "716d68ee"
      },
      "outputs": [],
      "source": []
    },
    {
      "cell_type": "code",
      "execution_count": null,
      "id": "56482e10",
      "metadata": {
        "papermill": {
          "duration": 0.130556,
          "end_time": "2024-05-31T08:11:19.572408",
          "exception": false,
          "start_time": "2024-05-31T08:11:19.441852",
          "status": "completed"
        },
        "tags": [],
        "id": "56482e10"
      },
      "outputs": [],
      "source": []
    }
  ],
  "metadata": {
    "kaggle": {
      "accelerator": "nvidiaTeslaT4",
      "dataSources": [
        {
          "datasetId": 5065386,
          "sourceId": 8490387,
          "sourceType": "datasetVersion"
        }
      ],
      "dockerImageVersionId": 30699,
      "isGpuEnabled": true,
      "isInternetEnabled": true,
      "language": "python",
      "sourceType": "notebook"
    },
    "kernelspec": {
      "display_name": "Python 3",
      "language": "python",
      "name": "python3"
    },
    "language_info": {
      "codemirror_mode": {
        "name": "ipython",
        "version": 3
      },
      "file_extension": ".py",
      "mimetype": "text/x-python",
      "name": "python",
      "nbconvert_exporter": "python",
      "pygments_lexer": "ipython3",
      "version": "3.10.13"
    },
    "papermill": {
      "default_parameters": {},
      "duration": 705.712302,
      "end_time": "2024-05-31T08:11:23.602691",
      "environment_variables": {},
      "exception": null,
      "input_path": "__notebook__.ipynb",
      "output_path": "__notebook__.ipynb",
      "parameters": {},
      "start_time": "2024-05-31T07:59:37.890389",
      "version": "2.5.0"
    },
    "widgets": {
      "application/vnd.jupyter.widget-state+json": {}
    },
    "colab": {
      "provenance": []
    }
  },
  "nbformat": 4,
  "nbformat_minor": 5
}